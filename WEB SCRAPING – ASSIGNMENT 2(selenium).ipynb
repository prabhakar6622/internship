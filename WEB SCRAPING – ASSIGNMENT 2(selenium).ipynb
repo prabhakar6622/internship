{
 "cells": [
  {
   "cell_type": "raw",
   "id": "0a340f8f",
   "metadata": {},
   "source": [
    "Q1:Write a python program to scrape data for “Data Analyst” Job position in “Bangalore” location. You have to scrape the job-title, job-location, company_name, experience_required. You have to scrape first 10 jobs data."
   ]
  },
  {
   "cell_type": "code",
   "execution_count": 1,
   "id": "f4e5ae21",
   "metadata": {},
   "outputs": [
    {
     "name": "stdout",
     "output_type": "stream",
     "text": [
      "Requirement already satisfied: selenium in c:\\programdata\\anaconda3\\lib\\site-packages (4.1.0)\n",
      "Requirement already satisfied: trio-websocket~=0.9 in c:\\programdata\\anaconda3\\lib\\site-packages (from selenium) (0.9.2)\n",
      "Requirement already satisfied: trio~=0.17 in c:\\programdata\\anaconda3\\lib\\site-packages (from selenium) (0.19.0)\n",
      "Requirement already satisfied: urllib3[secure]~=1.26 in c:\\programdata\\anaconda3\\lib\\site-packages (from selenium) (1.26.4)\n",
      "Requirement already satisfied: sortedcontainers in c:\\programdata\\anaconda3\\lib\\site-packages (from trio~=0.17->selenium) (2.3.0)\n",
      "Requirement already satisfied: attrs>=19.2.0 in c:\\programdata\\anaconda3\\lib\\site-packages (from trio~=0.17->selenium) (20.3.0)\n",
      "Requirement already satisfied: async-generator>=1.9 in c:\\programdata\\anaconda3\\lib\\site-packages (from trio~=0.17->selenium) (1.10)\n",
      "Requirement already satisfied: idna in c:\\programdata\\anaconda3\\lib\\site-packages (from trio~=0.17->selenium) (2.10)\n",
      "Requirement already satisfied: cffi>=1.14 in c:\\programdata\\anaconda3\\lib\\site-packages (from trio~=0.17->selenium) (1.14.5)\n",
      "Requirement already satisfied: sniffio in c:\\programdata\\anaconda3\\lib\\site-packages (from trio~=0.17->selenium) (1.2.0)\n",
      "Requirement already satisfied: outcome in c:\\programdata\\anaconda3\\lib\\site-packages (from trio~=0.17->selenium) (1.1.0)\n",
      "Requirement already satisfied: pycparser in c:\\programdata\\anaconda3\\lib\\site-packages (from cffi>=1.14->trio~=0.17->selenium) (2.20)\n",
      "Requirement already satisfied: wsproto>=0.14 in c:\\programdata\\anaconda3\\lib\\site-packages (from trio-websocket~=0.9->selenium) (1.0.0)\n",
      "Requirement already satisfied: cryptography>=1.3.4 in c:\\programdata\\anaconda3\\lib\\site-packages (from urllib3[secure]~=1.26->selenium) (3.4.7)\n",
      "Requirement already satisfied: pyOpenSSL>=0.14 in c:\\programdata\\anaconda3\\lib\\site-packages (from urllib3[secure]~=1.26->selenium) (20.0.1)\n",
      "Requirement already satisfied: certifi in c:\\programdata\\anaconda3\\lib\\site-packages (from urllib3[secure]~=1.26->selenium) (2020.12.5)\n",
      "Requirement already satisfied: six>=1.5.2 in c:\\programdata\\anaconda3\\lib\\site-packages (from pyOpenSSL>=0.14->urllib3[secure]~=1.26->selenium) (1.15.0)\n",
      "Requirement already satisfied: h11<1,>=0.9.0 in c:\\programdata\\anaconda3\\lib\\site-packages (from wsproto>=0.14->trio-websocket~=0.9->selenium) (0.12.0)\n"
     ]
    }
   ],
   "source": [
    "!pip install selenium"
   ]
  },
  {
   "cell_type": "code",
   "execution_count": 2,
   "id": "f695f4eb",
   "metadata": {},
   "outputs": [],
   "source": [
    "import selenium\n",
    "from selenium import webdriver\n",
    "import pandas as pd\n",
    "import warnings\n",
    "warnings.filterwarnings('ignore')"
   ]
  },
  {
   "cell_type": "code",
   "execution_count": 3,
   "id": "03b19fed",
   "metadata": {},
   "outputs": [],
   "source": [
    "driver=webdriver.Chrome(r'C:\\Users\\Jai Mata Di\\Downloads\\chromedriver_win32\\chromedriver.exe')"
   ]
  },
  {
   "cell_type": "code",
   "execution_count": 4,
   "id": "d0659213",
   "metadata": {},
   "outputs": [],
   "source": [
    "driver=webdriver.Chrome('chromedriver.exe')"
   ]
  },
  {
   "cell_type": "code",
   "execution_count": 5,
   "id": "54257e07",
   "metadata": {},
   "outputs": [],
   "source": [
    "url='https://www.naukri.com/'\n",
    "driver.get(url)"
   ]
  },
  {
   "cell_type": "code",
   "execution_count": 6,
   "id": "85a0ab20",
   "metadata": {},
   "outputs": [
    {
     "data": {
      "text/plain": [
       "<selenium.webdriver.remote.webelement.WebElement (session=\"a9c0b52c1e6e6d8d88bf1c9e4368b250\", element=\"be3de9ef-9d82-4cc3-8f0e-740b4a390a33\")>"
      ]
     },
     "execution_count": 6,
     "metadata": {},
     "output_type": "execute_result"
    }
   ],
   "source": [
    "search_job=driver.find_element_by_xpath('/html/body/div/div[2]/div[3]/div/div/div[1]/div/div/div/input')\n",
    "search_job"
   ]
  },
  {
   "cell_type": "code",
   "execution_count": 7,
   "id": "f50f271c",
   "metadata": {},
   "outputs": [],
   "source": [
    "search_job.send_keys(\"Data Analyst\")"
   ]
  },
  {
   "cell_type": "code",
   "execution_count": 8,
   "id": "045e8b9f",
   "metadata": {},
   "outputs": [
    {
     "data": {
      "text/plain": [
       "<selenium.webdriver.remote.webelement.WebElement (session=\"a9c0b52c1e6e6d8d88bf1c9e4368b250\", element=\"b34760a0-c57a-45f0-89a9-51c78c0c9a61\")>"
      ]
     },
     "execution_count": 8,
     "metadata": {},
     "output_type": "execute_result"
    }
   ],
   "source": [
    "search_locn=driver.find_element_by_xpath('/html/body/div/div[2]/div[3]/div/div/div[3]/div/div/div/input')\n",
    "search_locn"
   ]
  },
  {
   "cell_type": "code",
   "execution_count": 9,
   "id": "0779b83e",
   "metadata": {},
   "outputs": [],
   "source": [
    "search_locn.send_keys(\"Bangalore\")"
   ]
  },
  {
   "cell_type": "code",
   "execution_count": 10,
   "id": "a41b1bfb",
   "metadata": {},
   "outputs": [
    {
     "data": {
      "text/plain": [
       "<selenium.webdriver.remote.webelement.WebElement (session=\"a9c0b52c1e6e6d8d88bf1c9e4368b250\", element=\"edb971c9-267c-4eeb-976a-371bfc736caa\")>"
      ]
     },
     "execution_count": 10,
     "metadata": {},
     "output_type": "execute_result"
    }
   ],
   "source": [
    "search_btn=driver.find_element_by_xpath('/html/body/div/div[2]/div[3]/div/div/div[6]')\n",
    "search_btn"
   ]
  },
  {
   "cell_type": "code",
   "execution_count": 11,
   "id": "9408e5a4",
   "metadata": {},
   "outputs": [],
   "source": [
    "search_btn.click()\n"
   ]
  },
  {
   "cell_type": "code",
   "execution_count": 30,
   "id": "1924cf05",
   "metadata": {},
   "outputs": [],
   "source": [
    "salary_check=driver.find_element_by_xpath('/html/body/div[1]/div[3]/div[2]/section[1]/div[2]/div[1]/div[2]/div[1]/label/p/span[1]')"
   ]
  },
  {
   "cell_type": "code",
   "execution_count": 31,
   "id": "45d54bd3",
   "metadata": {},
   "outputs": [],
   "source": [
    "salary_check.click()"
   ]
  },
  {
   "cell_type": "code",
   "execution_count": 32,
   "id": "6116fe93",
   "metadata": {},
   "outputs": [
    {
     "data": {
      "text/plain": [
       "[<selenium.webdriver.remote.webelement.WebElement (session=\"a9c0b52c1e6e6d8d88bf1c9e4368b250\", element=\"8c8c4f36-02ba-4aa8-be73-78b5c5cd53f4\")>,\n",
       " <selenium.webdriver.remote.webelement.WebElement (session=\"a9c0b52c1e6e6d8d88bf1c9e4368b250\", element=\"af895d85-2b8f-4c31-853a-2546d31c74f7\")>]"
      ]
     },
     "execution_count": 32,
     "metadata": {},
     "output_type": "execute_result"
    }
   ],
   "source": [
    "title_tags = driver.find_elements_by_xpath('//a[@class=\"title fw500 ellipsis\"]')\n",
    "len(title_tags)\n",
    "title_tags[0:2]"
   ]
  },
  {
   "cell_type": "code",
   "execution_count": 33,
   "id": "bc6a8635",
   "metadata": {},
   "outputs": [
    {
     "data": {
      "text/plain": [
       "['Hiring Data Analyst For Global Logic-Immediate Joiner',\n",
       " 'Senior Data Analyst']"
      ]
     },
     "execution_count": 33,
     "metadata": {},
     "output_type": "execute_result"
    }
   ],
   "source": [
    "job_titles = []\n",
    "for i in title_tags:\n",
    "    job_titles.append(i.text)\n",
    "    \n",
    "len(job_titles)\n",
    "job_titles[0:2]\n",
    "\n",
    "    \n"
   ]
  },
  {
   "cell_type": "code",
   "execution_count": 34,
   "id": "0c7741b3",
   "metadata": {},
   "outputs": [
    {
     "data": {
      "text/plain": [
       "20"
      ]
     },
     "execution_count": 34,
     "metadata": {},
     "output_type": "execute_result"
    }
   ],
   "source": [
    "locn_tags = driver.find_elements_by_xpath('//li[@class=\"fleft grey-text br2 placeHolderLi location\"]')\n",
    "len(locn_tags)\n"
   ]
  },
  {
   "cell_type": "code",
   "execution_count": 35,
   "id": "ec8bfd3f",
   "metadata": {},
   "outputs": [
    {
     "data": {
      "text/plain": [
       "['Noida, Nagpur, Pune, Gurgaon/Gurugram, Bangalore/Bengaluru\\n(WFH during Covid)',\n",
       " 'Bengaluru/Bangalore']"
      ]
     },
     "execution_count": 35,
     "metadata": {},
     "output_type": "execute_result"
    }
   ],
   "source": [
    "location = []\n",
    "for i in locn_tags:\n",
    "    location.append(i.text)\n",
    "    \n",
    "len(location)\n",
    "location[0:2]\n",
    "\n",
    "    "
   ]
  },
  {
   "cell_type": "code",
   "execution_count": 36,
   "id": "58f67222",
   "metadata": {},
   "outputs": [
    {
     "data": {
      "text/plain": [
       "[<selenium.webdriver.remote.webelement.WebElement (session=\"a9c0b52c1e6e6d8d88bf1c9e4368b250\", element=\"8c8c4f36-02ba-4aa8-be73-78b5c5cd53f4\")>,\n",
       " <selenium.webdriver.remote.webelement.WebElement (session=\"a9c0b52c1e6e6d8d88bf1c9e4368b250\", element=\"af895d85-2b8f-4c31-853a-2546d31c74f7\")>]"
      ]
     },
     "execution_count": 36,
     "metadata": {},
     "output_type": "execute_result"
    }
   ],
   "source": [
    "company_tags = driver.find_elements_by_xpath('//a[@class=\"subTitle ellipsis fleft\"]')\n",
    "len(company_tags)\n",
    "title_tags[0:2]"
   ]
  },
  {
   "cell_type": "code",
   "execution_count": 37,
   "id": "a0ff6685",
   "metadata": {},
   "outputs": [
    {
     "data": {
      "text/plain": [
       "['GlobalLogic', 'Flipkart']"
      ]
     },
     "execution_count": 37,
     "metadata": {},
     "output_type": "execute_result"
    }
   ],
   "source": [
    "company_names = []\n",
    "for i in company_tags:\n",
    "    company_names.append(i.text)\n",
    "    \n",
    "len(company_names)\n",
    "company_names[0:2]"
   ]
  },
  {
   "cell_type": "code",
   "execution_count": 38,
   "id": "6bf491ec",
   "metadata": {},
   "outputs": [
    {
     "data": {
      "text/plain": [
       "(20, 20, 20)"
      ]
     },
     "execution_count": 38,
     "metadata": {},
     "output_type": "execute_result"
    }
   ],
   "source": [
    "len(job_titles),len(location),len(company_names)"
   ]
  },
  {
   "cell_type": "code",
   "execution_count": 39,
   "id": "58900fbf",
   "metadata": {},
   "outputs": [
    {
     "data": {
      "text/html": [
       "<div>\n",
       "<style scoped>\n",
       "    .dataframe tbody tr th:only-of-type {\n",
       "        vertical-align: middle;\n",
       "    }\n",
       "\n",
       "    .dataframe tbody tr th {\n",
       "        vertical-align: top;\n",
       "    }\n",
       "\n",
       "    .dataframe thead th {\n",
       "        text-align: right;\n",
       "    }\n",
       "</style>\n",
       "<table border=\"1\" class=\"dataframe\">\n",
       "  <thead>\n",
       "    <tr style=\"text-align: right;\">\n",
       "      <th></th>\n",
       "      <th>Job Title</th>\n",
       "      <th>Location</th>\n",
       "      <th>Company</th>\n",
       "    </tr>\n",
       "  </thead>\n",
       "  <tbody>\n",
       "    <tr>\n",
       "      <th>0</th>\n",
       "      <td>Hiring Data Analyst For Global Logic-Immediate...</td>\n",
       "      <td>Noida, Nagpur, Pune, Gurgaon/Gurugram, Bangalo...</td>\n",
       "      <td>GlobalLogic</td>\n",
       "    </tr>\n",
       "    <tr>\n",
       "      <th>1</th>\n",
       "      <td>Senior Data Analyst</td>\n",
       "      <td>Bengaluru/Bangalore</td>\n",
       "      <td>Flipkart</td>\n",
       "    </tr>\n",
       "    <tr>\n",
       "      <th>2</th>\n",
       "      <td>Junior Data Analyst/ Scientist- Fresher Position</td>\n",
       "      <td>Kolkata, Gurgaon/Gurugram, Bangalore/Bengaluru...</td>\n",
       "      <td>Sejal Consulting Hub</td>\n",
       "    </tr>\n",
       "    <tr>\n",
       "      <th>3</th>\n",
       "      <td>Assistant Clinical Data Analyst</td>\n",
       "      <td>Bangalore/Bengaluru</td>\n",
       "      <td>Labcorp Drug Development India Private Limited</td>\n",
       "    </tr>\n",
       "    <tr>\n",
       "      <th>4</th>\n",
       "      <td>Lead - Data Analyst / Scientist</td>\n",
       "      <td>Bangalore/Bengaluru</td>\n",
       "      <td>Axim Technologies</td>\n",
       "    </tr>\n",
       "    <tr>\n",
       "      <th>5</th>\n",
       "      <td>Data Analyst / Sr. Data Analyst</td>\n",
       "      <td>Bangalore/Bengaluru</td>\n",
       "      <td>Vmware</td>\n",
       "    </tr>\n",
       "    <tr>\n",
       "      <th>6</th>\n",
       "      <td>Senior Data Analyst - CRM</td>\n",
       "      <td>Bangalore/Bengaluru</td>\n",
       "      <td>Gojek Tech</td>\n",
       "    </tr>\n",
       "    <tr>\n",
       "      <th>7</th>\n",
       "      <td>Senior Data Analyst - Supporting Audits</td>\n",
       "      <td>Bangalore/Bengaluru</td>\n",
       "      <td>Visa</td>\n",
       "    </tr>\n",
       "    <tr>\n",
       "      <th>8</th>\n",
       "      <td>Research - Data Analyst / Associate</td>\n",
       "      <td>Mumbai, Delhi / NCR, Bangalore/Bengaluru</td>\n",
       "      <td>AXL HR Tech</td>\n",
       "    </tr>\n",
       "    <tr>\n",
       "      <th>9</th>\n",
       "      <td>Data Analyst 1</td>\n",
       "      <td>Bangalore/Bengaluru</td>\n",
       "      <td>Optum Global Solutions (India) Private Limited</td>\n",
       "    </tr>\n",
       "    <tr>\n",
       "      <th>10</th>\n",
       "      <td>SAM Data Analyst</td>\n",
       "      <td>Noida, Mumbai, Bangalore/Bengaluru</td>\n",
       "      <td>Nokia</td>\n",
       "    </tr>\n",
       "    <tr>\n",
       "      <th>11</th>\n",
       "      <td>Data Analyst</td>\n",
       "      <td>Bangalore/Bengaluru</td>\n",
       "      <td>Zolostays Property Solutions Pvt. Ltd.</td>\n",
       "    </tr>\n",
       "    <tr>\n",
       "      <th>12</th>\n",
       "      <td>Data Analyst - CRM Platform</td>\n",
       "      <td>Kolkata, Mumbai, Hyderabad/Secunderabad, Pune,...</td>\n",
       "      <td>Artech infosystem</td>\n",
       "    </tr>\n",
       "    <tr>\n",
       "      <th>13</th>\n",
       "      <td>Data Analyst</td>\n",
       "      <td>Bengaluru/Bangalore</td>\n",
       "      <td>Flipkart</td>\n",
       "    </tr>\n",
       "    <tr>\n",
       "      <th>14</th>\n",
       "      <td>Consultant - Data Analyst</td>\n",
       "      <td>Bengaluru/Bangalore</td>\n",
       "      <td>Flipkart</td>\n",
       "    </tr>\n",
       "    <tr>\n",
       "      <th>15</th>\n",
       "      <td>Hiring For Data Analyst</td>\n",
       "      <td>Bangalore/Bengaluru</td>\n",
       "      <td>Flipkart</td>\n",
       "    </tr>\n",
       "    <tr>\n",
       "      <th>16</th>\n",
       "      <td>Business Analyst - Telecom Data Migration</td>\n",
       "      <td>Pune, Gurgaon/Gurugram, Bangalore/Bengaluru</td>\n",
       "      <td>NetCracker</td>\n",
       "    </tr>\n",
       "    <tr>\n",
       "      <th>17</th>\n",
       "      <td>Senior Data Analyst</td>\n",
       "      <td>Bangalore/Bengaluru</td>\n",
       "      <td>Walmart</td>\n",
       "    </tr>\n",
       "    <tr>\n",
       "      <th>18</th>\n",
       "      <td>Senior Data Analyst - CRM</td>\n",
       "      <td>Bangalore/Bengaluru</td>\n",
       "      <td>GO-JEK India</td>\n",
       "    </tr>\n",
       "    <tr>\n",
       "      <th>19</th>\n",
       "      <td>Data Analyst</td>\n",
       "      <td>Bangalore/Bengaluru</td>\n",
       "      <td>Snaphunt</td>\n",
       "    </tr>\n",
       "  </tbody>\n",
       "</table>\n",
       "</div>"
      ],
      "text/plain": [
       "                                            Job Title  \\\n",
       "0   Hiring Data Analyst For Global Logic-Immediate...   \n",
       "1                                 Senior Data Analyst   \n",
       "2    Junior Data Analyst/ Scientist- Fresher Position   \n",
       "3                     Assistant Clinical Data Analyst   \n",
       "4                     Lead - Data Analyst / Scientist   \n",
       "5                     Data Analyst / Sr. Data Analyst   \n",
       "6                           Senior Data Analyst - CRM   \n",
       "7             Senior Data Analyst - Supporting Audits   \n",
       "8                 Research - Data Analyst / Associate   \n",
       "9                                      Data Analyst 1   \n",
       "10                                   SAM Data Analyst   \n",
       "11                                       Data Analyst   \n",
       "12                        Data Analyst - CRM Platform   \n",
       "13                                       Data Analyst   \n",
       "14                          Consultant - Data Analyst   \n",
       "15                            Hiring For Data Analyst   \n",
       "16          Business Analyst - Telecom Data Migration   \n",
       "17                                Senior Data Analyst   \n",
       "18                          Senior Data Analyst - CRM   \n",
       "19                                       Data Analyst   \n",
       "\n",
       "                                             Location  \\\n",
       "0   Noida, Nagpur, Pune, Gurgaon/Gurugram, Bangalo...   \n",
       "1                                 Bengaluru/Bangalore   \n",
       "2   Kolkata, Gurgaon/Gurugram, Bangalore/Bengaluru...   \n",
       "3                                 Bangalore/Bengaluru   \n",
       "4                                 Bangalore/Bengaluru   \n",
       "5                                 Bangalore/Bengaluru   \n",
       "6                                 Bangalore/Bengaluru   \n",
       "7                                 Bangalore/Bengaluru   \n",
       "8            Mumbai, Delhi / NCR, Bangalore/Bengaluru   \n",
       "9                                 Bangalore/Bengaluru   \n",
       "10                 Noida, Mumbai, Bangalore/Bengaluru   \n",
       "11                                Bangalore/Bengaluru   \n",
       "12  Kolkata, Mumbai, Hyderabad/Secunderabad, Pune,...   \n",
       "13                                Bengaluru/Bangalore   \n",
       "14                                Bengaluru/Bangalore   \n",
       "15                                Bangalore/Bengaluru   \n",
       "16        Pune, Gurgaon/Gurugram, Bangalore/Bengaluru   \n",
       "17                                Bangalore/Bengaluru   \n",
       "18                                Bangalore/Bengaluru   \n",
       "19                                Bangalore/Bengaluru   \n",
       "\n",
       "                                           Company  \n",
       "0                                      GlobalLogic  \n",
       "1                                         Flipkart  \n",
       "2                             Sejal Consulting Hub  \n",
       "3   Labcorp Drug Development India Private Limited  \n",
       "4                                Axim Technologies  \n",
       "5                                           Vmware  \n",
       "6                                       Gojek Tech  \n",
       "7                                             Visa  \n",
       "8                                      AXL HR Tech  \n",
       "9   Optum Global Solutions (India) Private Limited  \n",
       "10                                           Nokia  \n",
       "11          Zolostays Property Solutions Pvt. Ltd.  \n",
       "12                               Artech infosystem  \n",
       "13                                        Flipkart  \n",
       "14                                        Flipkart  \n",
       "15                                        Flipkart  \n",
       "16                                      NetCracker  \n",
       "17                                         Walmart  \n",
       "18                                    GO-JEK India  \n",
       "19                                        Snaphunt  "
      ]
     },
     "execution_count": 39,
     "metadata": {},
     "output_type": "execute_result"
    }
   ],
   "source": [
    "jobs=pd.DataFrame()\n",
    "jobs['Job Title']=job_titles\n",
    "jobs['Location']=location\n",
    "jobs['Company']=company_names\n",
    "jobs"
   ]
  },
  {
   "cell_type": "raw",
   "id": "17366211",
   "metadata": {},
   "source": [
    "Q2:Write a python program to scrape data for “Data Scientist” Job position in “Bangalore” location. You have to scrape the job-title, job-location, company_name. You have to scrape first 10 jobs data."
   ]
  },
  {
   "cell_type": "code",
   "execution_count": 40,
   "id": "c19bc07a",
   "metadata": {},
   "outputs": [],
   "source": [
    "driver=webdriver.Chrome(r'C:\\Users\\Jai Mata Di\\Downloads\\chromedriver_win32\\chromedriver.exe')"
   ]
  },
  {
   "cell_type": "code",
   "execution_count": 41,
   "id": "2ea864a5",
   "metadata": {},
   "outputs": [],
   "source": [
    "driver=webdriver.Chrome('chromedriver.exe')"
   ]
  },
  {
   "cell_type": "code",
   "execution_count": 42,
   "id": "0c29d1bb",
   "metadata": {},
   "outputs": [],
   "source": [
    "url='https://www.naukri.com/'"
   ]
  },
  {
   "cell_type": "code",
   "execution_count": 43,
   "id": "51c8be9b",
   "metadata": {},
   "outputs": [],
   "source": [
    "driver.get(url)"
   ]
  },
  {
   "cell_type": "code",
   "execution_count": 44,
   "id": "ad9c3001",
   "metadata": {},
   "outputs": [
    {
     "data": {
      "text/plain": [
       "<selenium.webdriver.remote.webelement.WebElement (session=\"6177f01306cad84bfbb7601c8b03614e\", element=\"3eb923e6-aefc-47cc-95f4-c13a7bf0d25e\")>"
      ]
     },
     "execution_count": 44,
     "metadata": {},
     "output_type": "execute_result"
    }
   ],
   "source": [
    "search_job=driver.find_element_by_xpath('/html/body/div/div[2]/div[3]/div/div/div[1]/div/div/div/input')\n",
    "search_job"
   ]
  },
  {
   "cell_type": "code",
   "execution_count": 45,
   "id": "22e5f7cf",
   "metadata": {},
   "outputs": [],
   "source": [
    "search_job.send_keys(\"Data Scientist\")"
   ]
  },
  {
   "cell_type": "code",
   "execution_count": 46,
   "id": "a39032b2",
   "metadata": {},
   "outputs": [
    {
     "data": {
      "text/plain": [
       "<selenium.webdriver.remote.webelement.WebElement (session=\"6177f01306cad84bfbb7601c8b03614e\", element=\"4c5948a6-50ed-47bf-b41d-3b696632555a\")>"
      ]
     },
     "execution_count": 46,
     "metadata": {},
     "output_type": "execute_result"
    }
   ],
   "source": [
    "search_locn=driver.find_element_by_xpath('/html/body/div/div[2]/div[3]/div/div/div[3]/div/div/div/input')\n",
    "search_locn"
   ]
  },
  {
   "cell_type": "code",
   "execution_count": 47,
   "id": "6bf5324d",
   "metadata": {},
   "outputs": [],
   "source": [
    "search_locn.send_keys(\"Bangalore\")"
   ]
  },
  {
   "cell_type": "code",
   "execution_count": 48,
   "id": "8e3efcd2",
   "metadata": {},
   "outputs": [
    {
     "data": {
      "text/plain": [
       "<selenium.webdriver.remote.webelement.WebElement (session=\"6177f01306cad84bfbb7601c8b03614e\", element=\"ebf6dd63-bb32-4ecd-b8e9-8fe1b98683cd\")>"
      ]
     },
     "execution_count": 48,
     "metadata": {},
     "output_type": "execute_result"
    }
   ],
   "source": [
    "search_btn=driver.find_element_by_xpath('/html/body/div/div[2]/div[3]/div/div/div[6]')\n",
    "search_btn"
   ]
  },
  {
   "cell_type": "code",
   "execution_count": 49,
   "id": "87d4a89f",
   "metadata": {},
   "outputs": [],
   "source": [
    "search_btn.click()"
   ]
  },
  {
   "cell_type": "code",
   "execution_count": 62,
   "id": "91051fdd",
   "metadata": {},
   "outputs": [],
   "source": [
    "salary_check=driver.find_element_by_xpath('/html/body/div[1]/div[3]/div[2]/section[1]/div[2]/div[1]/div[2]/div[1]/label/p/span[1]')"
   ]
  },
  {
   "cell_type": "code",
   "execution_count": 63,
   "id": "f0931402",
   "metadata": {},
   "outputs": [],
   "source": [
    "salary_check.click()"
   ]
  },
  {
   "cell_type": "code",
   "execution_count": 64,
   "id": "e4ccb53a",
   "metadata": {},
   "outputs": [
    {
     "data": {
      "text/plain": [
       "[<selenium.webdriver.remote.webelement.WebElement (session=\"6177f01306cad84bfbb7601c8b03614e\", element=\"f10d2dfa-d6c5-479c-baa8-fe9fc3b21f2a\")>,\n",
       " <selenium.webdriver.remote.webelement.WebElement (session=\"6177f01306cad84bfbb7601c8b03614e\", element=\"6941a324-fcc6-4e6e-b1a1-9ab7ab7d65c7\")>]"
      ]
     },
     "execution_count": 64,
     "metadata": {},
     "output_type": "execute_result"
    }
   ],
   "source": [
    "title_tags = driver.find_elements_by_xpath('//a[@class=\"title fw500 ellipsis\"]')\n",
    "len(title_tags)\n",
    "title_tags[0:2]\n"
   ]
  },
  {
   "cell_type": "code",
   "execution_count": 65,
   "id": "a977fc91",
   "metadata": {},
   "outputs": [
    {
     "data": {
      "text/plain": [
       "['Data Scientist: Advanced Analytics', 'Data Scientist: Advanced Analytics']"
      ]
     },
     "execution_count": 65,
     "metadata": {},
     "output_type": "execute_result"
    }
   ],
   "source": [
    "job_titles = []\n",
    "for i in title_tags:\n",
    "    job_titles.append(i.text)\n",
    "    \n",
    "len(job_titles)\n",
    "job_titles[0:2]\n",
    "\n"
   ]
  },
  {
   "cell_type": "code",
   "execution_count": 66,
   "id": "022625bb",
   "metadata": {},
   "outputs": [
    {
     "data": {
      "text/plain": [
       "20"
      ]
     },
     "execution_count": 66,
     "metadata": {},
     "output_type": "execute_result"
    }
   ],
   "source": [
    "locn_tags = driver.find_elements_by_xpath('//li[@class=\"fleft grey-text br2 placeHolderLi location\"]')\n",
    "len(locn_tags)\n"
   ]
  },
  {
   "cell_type": "code",
   "execution_count": 67,
   "id": "81b4552f",
   "metadata": {},
   "outputs": [
    {
     "data": {
      "text/plain": [
       "['Bangalore/Bengaluru', 'Bengaluru/Bangalore']"
      ]
     },
     "execution_count": 67,
     "metadata": {},
     "output_type": "execute_result"
    }
   ],
   "source": [
    "location = []\n",
    "for i in locn_tags:\n",
    "    location.append(i.text)\n",
    "    \n",
    "len(location)\n",
    "location[0:2]\n"
   ]
  },
  {
   "cell_type": "code",
   "execution_count": 68,
   "id": "b7149f84",
   "metadata": {},
   "outputs": [
    {
     "data": {
      "text/plain": [
       "[<selenium.webdriver.remote.webelement.WebElement (session=\"6177f01306cad84bfbb7601c8b03614e\", element=\"f10d2dfa-d6c5-479c-baa8-fe9fc3b21f2a\")>,\n",
       " <selenium.webdriver.remote.webelement.WebElement (session=\"6177f01306cad84bfbb7601c8b03614e\", element=\"6941a324-fcc6-4e6e-b1a1-9ab7ab7d65c7\")>]"
      ]
     },
     "execution_count": 68,
     "metadata": {},
     "output_type": "execute_result"
    }
   ],
   "source": [
    "company_tags = driver.find_elements_by_xpath('//a[@class=\"subTitle ellipsis fleft\"]')\n",
    "len(company_tags)\n",
    "title_tags[0:2]"
   ]
  },
  {
   "cell_type": "code",
   "execution_count": 69,
   "id": "a3b7f314",
   "metadata": {},
   "outputs": [
    {
     "data": {
      "text/plain": [
       "['IBM', 'IBM']"
      ]
     },
     "execution_count": 69,
     "metadata": {},
     "output_type": "execute_result"
    }
   ],
   "source": [
    "company_names = []\n",
    "for i in company_tags:\n",
    "    company_names.append(i.text)\n",
    "    \n",
    "len(company_names)\n",
    "company_names[0:2]"
   ]
  },
  {
   "cell_type": "code",
   "execution_count": 70,
   "id": "1ad1b349",
   "metadata": {},
   "outputs": [
    {
     "data": {
      "text/plain": [
       "(20, 20, 20)"
      ]
     },
     "execution_count": 70,
     "metadata": {},
     "output_type": "execute_result"
    }
   ],
   "source": [
    "len(job_titles),len(location),len(company_names)"
   ]
  },
  {
   "cell_type": "code",
   "execution_count": 71,
   "id": "9ca366ba",
   "metadata": {},
   "outputs": [
    {
     "data": {
      "text/html": [
       "<div>\n",
       "<style scoped>\n",
       "    .dataframe tbody tr th:only-of-type {\n",
       "        vertical-align: middle;\n",
       "    }\n",
       "\n",
       "    .dataframe tbody tr th {\n",
       "        vertical-align: top;\n",
       "    }\n",
       "\n",
       "    .dataframe thead th {\n",
       "        text-align: right;\n",
       "    }\n",
       "</style>\n",
       "<table border=\"1\" class=\"dataframe\">\n",
       "  <thead>\n",
       "    <tr style=\"text-align: right;\">\n",
       "      <th></th>\n",
       "      <th>Job Title</th>\n",
       "      <th>Location</th>\n",
       "      <th>Company</th>\n",
       "    </tr>\n",
       "  </thead>\n",
       "  <tbody>\n",
       "    <tr>\n",
       "      <th>0</th>\n",
       "      <td>Data Scientist: Advanced Analytics</td>\n",
       "      <td>Bangalore/Bengaluru</td>\n",
       "      <td>IBM</td>\n",
       "    </tr>\n",
       "    <tr>\n",
       "      <th>1</th>\n",
       "      <td>Data Scientist: Advanced Analytics</td>\n",
       "      <td>Bengaluru/Bangalore</td>\n",
       "      <td>IBM</td>\n",
       "    </tr>\n",
       "    <tr>\n",
       "      <th>2</th>\n",
       "      <td>Sr . Data Scientist</td>\n",
       "      <td>Bangalore/Bengaluru</td>\n",
       "      <td>Harman Connected Services Corporation India Pvt.</td>\n",
       "    </tr>\n",
       "    <tr>\n",
       "      <th>3</th>\n",
       "      <td>Senior Data Scientist</td>\n",
       "      <td>Bangalore/Bengaluru</td>\n",
       "      <td>Slice</td>\n",
       "    </tr>\n",
       "    <tr>\n",
       "      <th>4</th>\n",
       "      <td>Sr Data Scientist</td>\n",
       "      <td>Bangalore/Bengaluru</td>\n",
       "      <td>Siemens</td>\n",
       "    </tr>\n",
       "    <tr>\n",
       "      <th>5</th>\n",
       "      <td>Senior Data Scientist</td>\n",
       "      <td>Bangalore/Bengaluru</td>\n",
       "      <td>Dell</td>\n",
       "    </tr>\n",
       "    <tr>\n",
       "      <th>6</th>\n",
       "      <td>Senior Data Scientist</td>\n",
       "      <td>Bangalore/Bengaluru</td>\n",
       "      <td>Dell</td>\n",
       "    </tr>\n",
       "    <tr>\n",
       "      <th>7</th>\n",
       "      <td>Senior Data Scientist - Python/Machine Learnin...</td>\n",
       "      <td>Mumbai, Hyderabad/Secunderabad, Pune, Bangalor...</td>\n",
       "      <td>Altimax Business Solutions</td>\n",
       "    </tr>\n",
       "    <tr>\n",
       "      <th>8</th>\n",
       "      <td>Senior/Lead Data Scientist - (Revenue Management)</td>\n",
       "      <td>Bangalore/Bengaluru</td>\n",
       "      <td>o9 Solutions Management India Private Limited</td>\n",
       "    </tr>\n",
       "    <tr>\n",
       "      <th>9</th>\n",
       "      <td>Senior/Lead - Data Scientist (Supply Chain)</td>\n",
       "      <td>Bangalore/Bengaluru</td>\n",
       "      <td>o9 Solutions Management India Private Limited</td>\n",
       "    </tr>\n",
       "    <tr>\n",
       "      <th>10</th>\n",
       "      <td>Sr. Associate Data Scientist</td>\n",
       "      <td>Bangalore/Bengaluru</td>\n",
       "      <td>CHANGE LEADERS CONSULTING</td>\n",
       "    </tr>\n",
       "    <tr>\n",
       "      <th>11</th>\n",
       "      <td>Associate Data Scientist</td>\n",
       "      <td>Chennai, Bangalore/Bengaluru</td>\n",
       "      <td>Shell</td>\n",
       "    </tr>\n",
       "    <tr>\n",
       "      <th>12</th>\n",
       "      <td>Lead/Senior Data Scientist (NLP)</td>\n",
       "      <td>Bangalore/Bengaluru\\n(WFH during Covid)</td>\n",
       "      <td>Samya.AI A FRACTAL Entity</td>\n",
       "    </tr>\n",
       "    <tr>\n",
       "      <th>13</th>\n",
       "      <td>Data Scientist</td>\n",
       "      <td>Bangalore/Bengaluru</td>\n",
       "      <td>Rakuten, Inc.</td>\n",
       "    </tr>\n",
       "    <tr>\n",
       "      <th>14</th>\n",
       "      <td>Data Scientist</td>\n",
       "      <td>Bangalore/Bengaluru</td>\n",
       "      <td>Advito</td>\n",
       "    </tr>\n",
       "    <tr>\n",
       "      <th>15</th>\n",
       "      <td>Data Scientist-Supply Chain Analytics-Chainaly...</td>\n",
       "      <td>Bangalore/Bengaluru\\n(WFH during Covid)</td>\n",
       "      <td>CHAINALYTICS SERVICES PRIVATE LIMITED</td>\n",
       "    </tr>\n",
       "    <tr>\n",
       "      <th>16</th>\n",
       "      <td>Data Scientist</td>\n",
       "      <td>Bangalore/Bengaluru</td>\n",
       "      <td>BCD Travel</td>\n",
       "    </tr>\n",
       "    <tr>\n",
       "      <th>17</th>\n",
       "      <td>Academic Counsellor- Data Scientist</td>\n",
       "      <td>Mumbai, Hyderabad/Secunderabad, Chennai, Gurga...</td>\n",
       "      <td>AcadsHR</td>\n",
       "    </tr>\n",
       "    <tr>\n",
       "      <th>18</th>\n",
       "      <td>Junior Programmer - Data Scientist</td>\n",
       "      <td>Bangalore/Bengaluru</td>\n",
       "      <td>GSK India</td>\n",
       "    </tr>\n",
       "    <tr>\n",
       "      <th>19</th>\n",
       "      <td>Data Scientist: Artificial Intelligence</td>\n",
       "      <td>Bangalore/Bengaluru</td>\n",
       "      <td>IBM</td>\n",
       "    </tr>\n",
       "  </tbody>\n",
       "</table>\n",
       "</div>"
      ],
      "text/plain": [
       "                                            Job Title  \\\n",
       "0                  Data Scientist: Advanced Analytics   \n",
       "1                  Data Scientist: Advanced Analytics   \n",
       "2                                 Sr . Data Scientist   \n",
       "3                               Senior Data Scientist   \n",
       "4                                   Sr Data Scientist   \n",
       "5                               Senior Data Scientist   \n",
       "6                               Senior Data Scientist   \n",
       "7   Senior Data Scientist - Python/Machine Learnin...   \n",
       "8   Senior/Lead Data Scientist - (Revenue Management)   \n",
       "9         Senior/Lead - Data Scientist (Supply Chain)   \n",
       "10                       Sr. Associate Data Scientist   \n",
       "11                           Associate Data Scientist   \n",
       "12                   Lead/Senior Data Scientist (NLP)   \n",
       "13                                     Data Scientist   \n",
       "14                                     Data Scientist   \n",
       "15  Data Scientist-Supply Chain Analytics-Chainaly...   \n",
       "16                                     Data Scientist   \n",
       "17                Academic Counsellor- Data Scientist   \n",
       "18                 Junior Programmer - Data Scientist   \n",
       "19            Data Scientist: Artificial Intelligence   \n",
       "\n",
       "                                             Location  \\\n",
       "0                                 Bangalore/Bengaluru   \n",
       "1                                 Bengaluru/Bangalore   \n",
       "2                                 Bangalore/Bengaluru   \n",
       "3                                 Bangalore/Bengaluru   \n",
       "4                                 Bangalore/Bengaluru   \n",
       "5                                 Bangalore/Bengaluru   \n",
       "6                                 Bangalore/Bengaluru   \n",
       "7   Mumbai, Hyderabad/Secunderabad, Pune, Bangalor...   \n",
       "8                                 Bangalore/Bengaluru   \n",
       "9                                 Bangalore/Bengaluru   \n",
       "10                                Bangalore/Bengaluru   \n",
       "11                       Chennai, Bangalore/Bengaluru   \n",
       "12            Bangalore/Bengaluru\\n(WFH during Covid)   \n",
       "13                                Bangalore/Bengaluru   \n",
       "14                                Bangalore/Bengaluru   \n",
       "15            Bangalore/Bengaluru\\n(WFH during Covid)   \n",
       "16                                Bangalore/Bengaluru   \n",
       "17  Mumbai, Hyderabad/Secunderabad, Chennai, Gurga...   \n",
       "18                                Bangalore/Bengaluru   \n",
       "19                                Bangalore/Bengaluru   \n",
       "\n",
       "                                             Company  \n",
       "0                                                IBM  \n",
       "1                                                IBM  \n",
       "2   Harman Connected Services Corporation India Pvt.  \n",
       "3                                              Slice  \n",
       "4                                            Siemens  \n",
       "5                                               Dell  \n",
       "6                                               Dell  \n",
       "7                         Altimax Business Solutions  \n",
       "8      o9 Solutions Management India Private Limited  \n",
       "9      o9 Solutions Management India Private Limited  \n",
       "10                         CHANGE LEADERS CONSULTING  \n",
       "11                                             Shell  \n",
       "12                         Samya.AI A FRACTAL Entity  \n",
       "13                                     Rakuten, Inc.  \n",
       "14                                            Advito  \n",
       "15             CHAINALYTICS SERVICES PRIVATE LIMITED  \n",
       "16                                        BCD Travel  \n",
       "17                                           AcadsHR  \n",
       "18                                         GSK India  \n",
       "19                                               IBM  "
      ]
     },
     "execution_count": 71,
     "metadata": {},
     "output_type": "execute_result"
    }
   ],
   "source": [
    "jobs=pd.DataFrame()\n",
    "jobs['Job Title']=job_titles\n",
    "jobs['Location']=location\n",
    "jobs['Company']=company_names\n",
    "jobs"
   ]
  },
  {
   "cell_type": "raw",
   "id": "8b480846",
   "metadata": {},
   "source": [
    "Q3:In this question you have to scrape data using the filters available on the webpage as shown below:\n",
    "You have to use the location and salary filter.\n",
    "You have to scrape data for “Data Scientist” designation for first 10 job results.\n",
    "You have to scrape the job-title, job-location, company name, experience required. The location filter to be used is “Delhi/NCR”. The salary filter to be used is “3-6” lakhs"
   ]
  },
  {
   "cell_type": "code",
   "execution_count": 72,
   "id": "e74feee8",
   "metadata": {},
   "outputs": [],
   "source": [
    "driver=webdriver.Chrome(r'C:\\Users\\Jai Mata Di\\Downloads\\chromedriver_win32\\chromedriver.exe')"
   ]
  },
  {
   "cell_type": "code",
   "execution_count": 73,
   "id": "cce7689d",
   "metadata": {},
   "outputs": [],
   "source": [
    "driver=webdriver.Chrome('chromedriver.exe')"
   ]
  },
  {
   "cell_type": "code",
   "execution_count": 74,
   "id": "950c1b64",
   "metadata": {},
   "outputs": [],
   "source": [
    "url='https://www.naukri.com/'"
   ]
  },
  {
   "cell_type": "code",
   "execution_count": 75,
   "id": "5df02c0b",
   "metadata": {},
   "outputs": [],
   "source": [
    "driver.get(url)"
   ]
  },
  {
   "cell_type": "code",
   "execution_count": 76,
   "id": "44bb7bfa",
   "metadata": {},
   "outputs": [
    {
     "data": {
      "text/plain": [
       "<selenium.webdriver.remote.webelement.WebElement (session=\"6225563f725a4d196ce63904f2e07801\", element=\"f590195b-bd0f-405a-bac5-005f48c5387a\")>"
      ]
     },
     "execution_count": 76,
     "metadata": {},
     "output_type": "execute_result"
    }
   ],
   "source": [
    "search_job=driver.find_element_by_xpath('/html/body/div/div[2]/div[3]/div/div/div[1]/div/div/div/input')\n",
    "search_job"
   ]
  },
  {
   "cell_type": "code",
   "execution_count": 77,
   "id": "203abc2b",
   "metadata": {},
   "outputs": [],
   "source": [
    "search_job.send_keys(\"Data Scientist\")"
   ]
  },
  {
   "cell_type": "code",
   "execution_count": 78,
   "id": "7a46c83e",
   "metadata": {},
   "outputs": [
    {
     "data": {
      "text/plain": [
       "<selenium.webdriver.remote.webelement.WebElement (session=\"6225563f725a4d196ce63904f2e07801\", element=\"87e916a2-f8e6-4717-a309-92f0b8e42dc0\")>"
      ]
     },
     "execution_count": 78,
     "metadata": {},
     "output_type": "execute_result"
    }
   ],
   "source": [
    "search_locn=driver.find_element_by_xpath('/html/body/div/div[2]/div[3]/div/div/div[3]/div/div/div/input')\n",
    "search_locn"
   ]
  },
  {
   "cell_type": "code",
   "execution_count": 79,
   "id": "cdf6dbb2",
   "metadata": {},
   "outputs": [],
   "source": [
    "search_locn.send_keys(\"Delhi/NCR\")"
   ]
  },
  {
   "cell_type": "code",
   "execution_count": 80,
   "id": "8aede34a",
   "metadata": {},
   "outputs": [
    {
     "data": {
      "text/plain": [
       "<selenium.webdriver.remote.webelement.WebElement (session=\"6225563f725a4d196ce63904f2e07801\", element=\"479142ee-8523-4c28-8fe3-11129a84b66e\")>"
      ]
     },
     "execution_count": 80,
     "metadata": {},
     "output_type": "execute_result"
    }
   ],
   "source": [
    "search_btn=driver.find_element_by_xpath('/html/body/div/div[2]/div[3]/div/div/div[6]')\n",
    "search_btn"
   ]
  },
  {
   "cell_type": "code",
   "execution_count": 81,
   "id": "7c4cfa5f",
   "metadata": {},
   "outputs": [],
   "source": [
    "search_btn.click()"
   ]
  },
  {
   "cell_type": "code",
   "execution_count": 101,
   "id": "fe4cdd4b",
   "metadata": {},
   "outputs": [],
   "source": [
    "salary_check=driver.find_element_by_xpath('/html/body/div[1]/div[3]/div[2]/section[1]/div[2]/div[1]/div[2]/div[1]/label/i')"
   ]
  },
  {
   "cell_type": "code",
   "execution_count": 102,
   "id": "b0261c7e",
   "metadata": {},
   "outputs": [],
   "source": [
    "salary_check.click()"
   ]
  },
  {
   "cell_type": "code",
   "execution_count": 103,
   "id": "8c44677f",
   "metadata": {},
   "outputs": [
    {
     "data": {
      "text/plain": [
       "[<selenium.webdriver.remote.webelement.WebElement (session=\"6225563f725a4d196ce63904f2e07801\", element=\"ce324f37-6656-4564-8026-59309559c5d4\")>,\n",
       " <selenium.webdriver.remote.webelement.WebElement (session=\"6225563f725a4d196ce63904f2e07801\", element=\"4073531e-b34e-415c-8344-c3a04f349d04\")>]"
      ]
     },
     "execution_count": 103,
     "metadata": {},
     "output_type": "execute_result"
    }
   ],
   "source": [
    "title_tags = driver.find_elements_by_xpath('//a[@class=\"title fw500 ellipsis\"]')\n",
    "len(title_tags)\n",
    "title_tags[0:2]"
   ]
  },
  {
   "cell_type": "code",
   "execution_count": 104,
   "id": "0c0fb7ff",
   "metadata": {},
   "outputs": [
    {
     "data": {
      "text/plain": [
       "['Data Scientist / Senior DS/ Team Lead', 'Analyst - Data Scientist']"
      ]
     },
     "execution_count": 104,
     "metadata": {},
     "output_type": "execute_result"
    }
   ],
   "source": [
    "job_titles = []\n",
    "for i in title_tags:\n",
    "    job_titles.append(i.text)\n",
    "    \n",
    "len(job_titles)\n",
    "job_titles[0:2]"
   ]
  },
  {
   "cell_type": "code",
   "execution_count": 105,
   "id": "45b8af60",
   "metadata": {},
   "outputs": [
    {
     "data": {
      "text/plain": [
       "20"
      ]
     },
     "execution_count": 105,
     "metadata": {},
     "output_type": "execute_result"
    }
   ],
   "source": [
    "locn_tags = driver.find_elements_by_xpath('//li[@class=\"fleft grey-text br2 placeHolderLi location\"]')\n",
    "len(locn_tags)"
   ]
  },
  {
   "cell_type": "code",
   "execution_count": 106,
   "id": "209c146c",
   "metadata": {},
   "outputs": [
    {
     "data": {
      "text/plain": [
       "['Mumbai, Gurgaon/Gurugram(Cyber City +1)', 'Gurgaon/Gurugram']"
      ]
     },
     "execution_count": 106,
     "metadata": {},
     "output_type": "execute_result"
    }
   ],
   "source": [
    "location = []\n",
    "for i in locn_tags:\n",
    "    location.append(i.text)\n",
    "    \n",
    "len(location)\n",
    "location[0:2]\n"
   ]
  },
  {
   "cell_type": "code",
   "execution_count": 107,
   "id": "4a71c96e",
   "metadata": {},
   "outputs": [
    {
     "data": {
      "text/plain": [
       "[<selenium.webdriver.remote.webelement.WebElement (session=\"6225563f725a4d196ce63904f2e07801\", element=\"ce324f37-6656-4564-8026-59309559c5d4\")>,\n",
       " <selenium.webdriver.remote.webelement.WebElement (session=\"6225563f725a4d196ce63904f2e07801\", element=\"4073531e-b34e-415c-8344-c3a04f349d04\")>]"
      ]
     },
     "execution_count": 107,
     "metadata": {},
     "output_type": "execute_result"
    }
   ],
   "source": [
    "company_tags = driver.find_elements_by_xpath('//a[@class=\"subTitle ellipsis fleft\"]')\n",
    "len(company_tags)\n",
    "title_tags[0:2]"
   ]
  },
  {
   "cell_type": "code",
   "execution_count": 108,
   "id": "97b3c805",
   "metadata": {},
   "outputs": [
    {
     "data": {
      "text/plain": [
       "['NebulARC Technologies Private Limited', 'United Airlines']"
      ]
     },
     "execution_count": 108,
     "metadata": {},
     "output_type": "execute_result"
    }
   ],
   "source": [
    "company_names = []\n",
    "for i in company_tags:\n",
    "    company_names.append(i.text)\n",
    "    \n",
    "len(company_names)\n",
    "company_names[0:2]"
   ]
  },
  {
   "cell_type": "code",
   "execution_count": 109,
   "id": "d9745f7d",
   "metadata": {},
   "outputs": [
    {
     "data": {
      "text/plain": [
       "20"
      ]
     },
     "execution_count": 109,
     "metadata": {},
     "output_type": "execute_result"
    }
   ],
   "source": [
    "exp_tags = driver.find_elements_by_xpath('//li[@class=\"fleft grey-text br2 placeHolderLi experience\"]')\n",
    "len(exp_tags)\n",
    "\n"
   ]
  },
  {
   "cell_type": "code",
   "execution_count": 110,
   "id": "e54035d2",
   "metadata": {},
   "outputs": [
    {
     "data": {
      "text/plain": [
       "['0-4 Yrs', '2-4 Yrs']"
      ]
     },
     "execution_count": 110,
     "metadata": {},
     "output_type": "execute_result"
    }
   ],
   "source": [
    "experience = []\n",
    "for i in exp_tags:\n",
    "    experience.append(i.text)\n",
    "    \n",
    "len(experience)\n",
    "experience[0:2]"
   ]
  },
  {
   "cell_type": "code",
   "execution_count": 111,
   "id": "fc95a2a5",
   "metadata": {},
   "outputs": [
    {
     "data": {
      "text/plain": [
       "(20, 20, 20, 20)"
      ]
     },
     "execution_count": 111,
     "metadata": {},
     "output_type": "execute_result"
    }
   ],
   "source": [
    "len(job_titles),len(location),len(company_names),len(experience)"
   ]
  },
  {
   "cell_type": "code",
   "execution_count": 112,
   "id": "82b3781b",
   "metadata": {},
   "outputs": [
    {
     "data": {
      "text/html": [
       "<div>\n",
       "<style scoped>\n",
       "    .dataframe tbody tr th:only-of-type {\n",
       "        vertical-align: middle;\n",
       "    }\n",
       "\n",
       "    .dataframe tbody tr th {\n",
       "        vertical-align: top;\n",
       "    }\n",
       "\n",
       "    .dataframe thead th {\n",
       "        text-align: right;\n",
       "    }\n",
       "</style>\n",
       "<table border=\"1\" class=\"dataframe\">\n",
       "  <thead>\n",
       "    <tr style=\"text-align: right;\">\n",
       "      <th></th>\n",
       "      <th>Job Title</th>\n",
       "      <th>Location</th>\n",
       "      <th>Company</th>\n",
       "      <th>Experience</th>\n",
       "    </tr>\n",
       "  </thead>\n",
       "  <tbody>\n",
       "    <tr>\n",
       "      <th>0</th>\n",
       "      <td>Data Scientist / Senior DS/ Team Lead</td>\n",
       "      <td>Mumbai, Gurgaon/Gurugram(Cyber City +1)</td>\n",
       "      <td>NebulARC Technologies Private Limited</td>\n",
       "      <td>0-4 Yrs</td>\n",
       "    </tr>\n",
       "    <tr>\n",
       "      <th>1</th>\n",
       "      <td>Analyst - Data Scientist</td>\n",
       "      <td>Gurgaon/Gurugram</td>\n",
       "      <td>United Airlines</td>\n",
       "      <td>2-4 Yrs</td>\n",
       "    </tr>\n",
       "    <tr>\n",
       "      <th>2</th>\n",
       "      <td>Academic Counsellor- Data Scientist</td>\n",
       "      <td>Mumbai, Hyderabad/Secunderabad, Chennai, Gurga...</td>\n",
       "      <td>AcadsHR</td>\n",
       "      <td>1-4 Yrs</td>\n",
       "    </tr>\n",
       "    <tr>\n",
       "      <th>3</th>\n",
       "      <td>Data Scientist/Lead Data Scientist (Remote)</td>\n",
       "      <td>Kolkata, Pune, Ahmedabad, Bangalore/Bengaluru,...</td>\n",
       "      <td>NIFTEL COMMUNICATIONS PRIVATE LIMITED</td>\n",
       "      <td>3-8 Yrs</td>\n",
       "    </tr>\n",
       "    <tr>\n",
       "      <th>4</th>\n",
       "      <td>Senior Data Scientist</td>\n",
       "      <td>Gurgaon/Gurugram, Bangalore/Bengaluru, Mumbai ...</td>\n",
       "      <td>Fractal Analytics</td>\n",
       "      <td>5-10 Yrs</td>\n",
       "    </tr>\n",
       "    <tr>\n",
       "      <th>5</th>\n",
       "      <td>Data Scientist</td>\n",
       "      <td>Gurgaon/Gurugram(Uday Nagar)</td>\n",
       "      <td>Core Diagnostics Private Limited</td>\n",
       "      <td>2-7 Yrs</td>\n",
       "    </tr>\n",
       "    <tr>\n",
       "      <th>6</th>\n",
       "      <td>Hiring For Data Analyst / Data Scientist</td>\n",
       "      <td>Noida(Sector-59 Noida)</td>\n",
       "      <td>Careerera</td>\n",
       "      <td>2-5 Yrs</td>\n",
       "    </tr>\n",
       "    <tr>\n",
       "      <th>7</th>\n",
       "      <td>Job Opportunity || Data Scientist || HCL Techn...</td>\n",
       "      <td>Delhi / NCR</td>\n",
       "      <td>HCL</td>\n",
       "      <td>2-6 Yrs</td>\n",
       "    </tr>\n",
       "    <tr>\n",
       "      <th>8</th>\n",
       "      <td>Senior Data Scientist I</td>\n",
       "      <td>Gurgaon/Gurugram</td>\n",
       "      <td>Delhivery</td>\n",
       "      <td>3-7 Yrs</td>\n",
       "    </tr>\n",
       "    <tr>\n",
       "      <th>9</th>\n",
       "      <td>Senior Data Scientist I</td>\n",
       "      <td>Gurgaon/Gurugram</td>\n",
       "      <td>Delhivery</td>\n",
       "      <td>3-7 Yrs</td>\n",
       "    </tr>\n",
       "    <tr>\n",
       "      <th>10</th>\n",
       "      <td>Junior Data Analyst/ Scientist- Fresher Position</td>\n",
       "      <td>Kolkata, Gurgaon/Gurugram, Bangalore/Bengaluru...</td>\n",
       "      <td>Sejal Consulting Hub</td>\n",
       "      <td>0-3 Yrs</td>\n",
       "    </tr>\n",
       "    <tr>\n",
       "      <th>11</th>\n",
       "      <td>Lead Data Scientist</td>\n",
       "      <td>Noida</td>\n",
       "      <td>MIMIT Healthcare</td>\n",
       "      <td>6-10 Yrs</td>\n",
       "    </tr>\n",
       "    <tr>\n",
       "      <th>12</th>\n",
       "      <td>Openings For Jr/mid/Sr level data Scientists</td>\n",
       "      <td>Kolkata, Hyderabad/Secunderabad, Pune, Ahmedab...</td>\n",
       "      <td>Pluto seven business solutions (p) limited</td>\n",
       "      <td>2-6 Yrs</td>\n",
       "    </tr>\n",
       "    <tr>\n",
       "      <th>13</th>\n",
       "      <td>Data Scientist | Python | Machine Learning | D...</td>\n",
       "      <td>Noida, Gurgaon/Gurugram, Delhi / NCR</td>\n",
       "      <td>Schlesinger Group</td>\n",
       "      <td>0-3 Yrs</td>\n",
       "    </tr>\n",
       "    <tr>\n",
       "      <th>14</th>\n",
       "      <td>Data Scientist II</td>\n",
       "      <td>Gurgaon/Gurugram</td>\n",
       "      <td>Zenatix Solutions Private Limited</td>\n",
       "      <td>0-4 Yrs</td>\n",
       "    </tr>\n",
       "    <tr>\n",
       "      <th>15</th>\n",
       "      <td>ML Engineer/Data Scientist</td>\n",
       "      <td>Kolkata, Mumbai, Visakhapatnam, Hyderabad/Secu...</td>\n",
       "      <td>Rapid Talent Solutions</td>\n",
       "      <td>6-11 Yrs</td>\n",
       "    </tr>\n",
       "    <tr>\n",
       "      <th>16</th>\n",
       "      <td>Associate Vice President - Data Scientist - II...</td>\n",
       "      <td>Gurgaon/Gurugram</td>\n",
       "      <td>Huquo Consulting Pvt. Ltd</td>\n",
       "      <td>8-12 Yrs</td>\n",
       "    </tr>\n",
       "    <tr>\n",
       "      <th>17</th>\n",
       "      <td>Data Scientist</td>\n",
       "      <td>Noida</td>\n",
       "      <td>Jubilant Foodworks</td>\n",
       "      <td>3-6 Yrs</td>\n",
       "    </tr>\n",
       "    <tr>\n",
       "      <th>18</th>\n",
       "      <td>Data Scientist</td>\n",
       "      <td>Gurgaon/Gurugram</td>\n",
       "      <td>T &amp; A Solutions</td>\n",
       "      <td>2-6 Yrs</td>\n",
       "    </tr>\n",
       "    <tr>\n",
       "      <th>19</th>\n",
       "      <td>Manager Data Scientist</td>\n",
       "      <td>Noida</td>\n",
       "      <td>Ameriprise Financial</td>\n",
       "      <td>4-6 Yrs</td>\n",
       "    </tr>\n",
       "  </tbody>\n",
       "</table>\n",
       "</div>"
      ],
      "text/plain": [
       "                                            Job Title  \\\n",
       "0               Data Scientist / Senior DS/ Team Lead   \n",
       "1                            Analyst - Data Scientist   \n",
       "2                 Academic Counsellor- Data Scientist   \n",
       "3         Data Scientist/Lead Data Scientist (Remote)   \n",
       "4                               Senior Data Scientist   \n",
       "5                                      Data Scientist   \n",
       "6            Hiring For Data Analyst / Data Scientist   \n",
       "7   Job Opportunity || Data Scientist || HCL Techn...   \n",
       "8                             Senior Data Scientist I   \n",
       "9                             Senior Data Scientist I   \n",
       "10   Junior Data Analyst/ Scientist- Fresher Position   \n",
       "11                                Lead Data Scientist   \n",
       "12       Openings For Jr/mid/Sr level data Scientists   \n",
       "13  Data Scientist | Python | Machine Learning | D...   \n",
       "14                                  Data Scientist II   \n",
       "15                         ML Engineer/Data Scientist   \n",
       "16  Associate Vice President - Data Scientist - II...   \n",
       "17                                     Data Scientist   \n",
       "18                                     Data Scientist   \n",
       "19                             Manager Data Scientist   \n",
       "\n",
       "                                             Location  \\\n",
       "0             Mumbai, Gurgaon/Gurugram(Cyber City +1)   \n",
       "1                                    Gurgaon/Gurugram   \n",
       "2   Mumbai, Hyderabad/Secunderabad, Chennai, Gurga...   \n",
       "3   Kolkata, Pune, Ahmedabad, Bangalore/Bengaluru,...   \n",
       "4   Gurgaon/Gurugram, Bangalore/Bengaluru, Mumbai ...   \n",
       "5                        Gurgaon/Gurugram(Uday Nagar)   \n",
       "6                              Noida(Sector-59 Noida)   \n",
       "7                                         Delhi / NCR   \n",
       "8                                    Gurgaon/Gurugram   \n",
       "9                                    Gurgaon/Gurugram   \n",
       "10  Kolkata, Gurgaon/Gurugram, Bangalore/Bengaluru...   \n",
       "11                                              Noida   \n",
       "12  Kolkata, Hyderabad/Secunderabad, Pune, Ahmedab...   \n",
       "13               Noida, Gurgaon/Gurugram, Delhi / NCR   \n",
       "14                                   Gurgaon/Gurugram   \n",
       "15  Kolkata, Mumbai, Visakhapatnam, Hyderabad/Secu...   \n",
       "16                                   Gurgaon/Gurugram   \n",
       "17                                              Noida   \n",
       "18                                   Gurgaon/Gurugram   \n",
       "19                                              Noida   \n",
       "\n",
       "                                       Company Experience  \n",
       "0        NebulARC Technologies Private Limited    0-4 Yrs  \n",
       "1                              United Airlines    2-4 Yrs  \n",
       "2                                      AcadsHR    1-4 Yrs  \n",
       "3        NIFTEL COMMUNICATIONS PRIVATE LIMITED    3-8 Yrs  \n",
       "4                            Fractal Analytics   5-10 Yrs  \n",
       "5             Core Diagnostics Private Limited    2-7 Yrs  \n",
       "6                                    Careerera    2-5 Yrs  \n",
       "7                                          HCL    2-6 Yrs  \n",
       "8                                    Delhivery    3-7 Yrs  \n",
       "9                                    Delhivery    3-7 Yrs  \n",
       "10                        Sejal Consulting Hub    0-3 Yrs  \n",
       "11                            MIMIT Healthcare   6-10 Yrs  \n",
       "12  Pluto seven business solutions (p) limited    2-6 Yrs  \n",
       "13                           Schlesinger Group    0-3 Yrs  \n",
       "14           Zenatix Solutions Private Limited    0-4 Yrs  \n",
       "15                      Rapid Talent Solutions   6-11 Yrs  \n",
       "16                   Huquo Consulting Pvt. Ltd   8-12 Yrs  \n",
       "17                          Jubilant Foodworks    3-6 Yrs  \n",
       "18                             T & A Solutions    2-6 Yrs  \n",
       "19                        Ameriprise Financial    4-6 Yrs  "
      ]
     },
     "execution_count": 112,
     "metadata": {},
     "output_type": "execute_result"
    }
   ],
   "source": [
    "jobs=pd.DataFrame()\n",
    "jobs['Job Title']=job_titles\n",
    "jobs['Location']=location\n",
    "jobs['Company']=company_names\n",
    "jobs['Experience']=experience\n",
    "jobs"
   ]
  },
  {
   "cell_type": "raw",
   "id": "2bbc124d",
   "metadata": {},
   "source": [
    "Q4:Scrape data of first 100 sunglasses listings on flipkart.com. You have to scrape four attributes:\n",
    "1. Brand\n",
    "2. Product Description\n",
    "3. Price\n",
    "The attributes which you have to scrape is ticked marked in the below image.\n",
    "To scrape"
   ]
  },
  {
   "cell_type": "code",
   "execution_count": 113,
   "id": "4aea84d9",
   "metadata": {},
   "outputs": [],
   "source": [
    "driver=webdriver.Chrome(r'C:\\Users\\Jai Mata Di\\Downloads\\chromedriver_win32\\chromedriver.exe')"
   ]
  },
  {
   "cell_type": "code",
   "execution_count": 114,
   "id": "d0046350",
   "metadata": {},
   "outputs": [],
   "source": [
    "driver=webdriver.Chrome('chromedriver.exe')"
   ]
  },
  {
   "cell_type": "code",
   "execution_count": 115,
   "id": "f3eed921",
   "metadata": {},
   "outputs": [],
   "source": [
    "url='https://www.flipkart.com/'"
   ]
  },
  {
   "cell_type": "code",
   "execution_count": 116,
   "id": "3155c134",
   "metadata": {},
   "outputs": [],
   "source": [
    "driver.get(url)"
   ]
  },
  {
   "cell_type": "code",
   "execution_count": 117,
   "id": "34a21533",
   "metadata": {},
   "outputs": [
    {
     "data": {
      "text/plain": [
       "<selenium.webdriver.remote.webelement.WebElement (session=\"da4e6bbaa0a94f734c10f318212e2ec6\", element=\"c8cd2e64-05cf-42ae-87e6-8660f50cc405\")>"
      ]
     },
     "execution_count": 117,
     "metadata": {},
     "output_type": "execute_result"
    }
   ],
   "source": [
    "search_item=driver.find_element_by_xpath('/html/body/div[1]/div/div[1]/div[1]/div[2]/div[2]/form/div/div/input')\n",
    "search_item"
   ]
  },
  {
   "cell_type": "code",
   "execution_count": 118,
   "id": "b779fbcc",
   "metadata": {},
   "outputs": [],
   "source": [
    "search_item.send_keys(\"sunglasses\")"
   ]
  },
  {
   "cell_type": "code",
   "execution_count": 119,
   "id": "d7b54603",
   "metadata": {},
   "outputs": [
    {
     "data": {
      "text/plain": [
       "<selenium.webdriver.remote.webelement.WebElement (session=\"da4e6bbaa0a94f734c10f318212e2ec6\", element=\"0f7f3194-6aaa-4352-a648-b08205409115\")>"
      ]
     },
     "execution_count": 119,
     "metadata": {},
     "output_type": "execute_result"
    }
   ],
   "source": [
    "search_btn=driver.find_element_by_xpath('/html/body/div[1]/div/div[1]/div[1]/div[2]/div[2]/form/div/button')\n",
    "search_btn"
   ]
  },
  {
   "cell_type": "code",
   "execution_count": 120,
   "id": "17043b89",
   "metadata": {},
   "outputs": [],
   "source": [
    "search_btn.click()"
   ]
  },
  {
   "cell_type": "code",
   "execution_count": 124,
   "id": "f2be1786",
   "metadata": {},
   "outputs": [],
   "source": [
    "brand_check=driver.find_element_by_xpath('/html/body/div[1]/div/div[3]/div[1]/div[1]/div/div[1]/div/section[4]/div[1]/div')"
   ]
  },
  {
   "cell_type": "code",
   "execution_count": 125,
   "id": "c4958583",
   "metadata": {},
   "outputs": [],
   "source": [
    "brand_check.click()"
   ]
  },
  {
   "cell_type": "code",
   "execution_count": 126,
   "id": "87325033",
   "metadata": {},
   "outputs": [
    {
     "data": {
      "text/plain": [
       "[<selenium.webdriver.remote.webelement.WebElement (session=\"da4e6bbaa0a94f734c10f318212e2ec6\", element=\"2ded5112-e7c8-442b-a9f1-eef7c6417c3e\")>,\n",
       " <selenium.webdriver.remote.webelement.WebElement (session=\"da4e6bbaa0a94f734c10f318212e2ec6\", element=\"35a192ca-a7a3-4209-ae11-bc531bc9761a\")>]"
      ]
     },
     "execution_count": 126,
     "metadata": {},
     "output_type": "execute_result"
    }
   ],
   "source": [
    "brand_tags = driver.find_elements_by_xpath('//div[@class=\"_2gmUFU _3V8rao\"]')\n",
    "len(brand_tags)\n",
    "brand_tags[0:2]"
   ]
  },
  {
   "cell_type": "code",
   "execution_count": 127,
   "id": "ecd0fe17",
   "metadata": {},
   "outputs": [
    {
     "data": {
      "text/plain": [
       "['BRAND', 'IDEAL FOR']"
      ]
     },
     "execution_count": 127,
     "metadata": {},
     "output_type": "execute_result"
    }
   ],
   "source": [
    "brand_titles = []\n",
    "for i in brand_tags:\n",
    "    brand_titles.append(i.text)\n",
    "    \n",
    "len(brand_titles)\n",
    "brand_titles[0:2]"
   ]
  },
  {
   "cell_type": "code",
   "execution_count": 128,
   "id": "817eb0a4",
   "metadata": {},
   "outputs": [
    {
     "data": {
      "text/plain": [
       "[<selenium.webdriver.remote.webelement.WebElement (session=\"da4e6bbaa0a94f734c10f318212e2ec6\", element=\"13c81e2c-60b2-435b-9147-330ba3900321\")>,\n",
       " <selenium.webdriver.remote.webelement.WebElement (session=\"da4e6bbaa0a94f734c10f318212e2ec6\", element=\"836379e6-0fce-4b3b-8746-a29e710104b6\")>]"
      ]
     },
     "execution_count": 128,
     "metadata": {},
     "output_type": "execute_result"
    }
   ],
   "source": [
    "product_tags = driver.find_elements_by_xpath('//a[@class=\"IRpwTa\"]')\n",
    "len(product_tags)\n",
    "product_tags[0:2]"
   ]
  },
  {
   "cell_type": "code",
   "execution_count": 129,
   "id": "b00ffa48",
   "metadata": {},
   "outputs": [
    {
     "data": {
      "text/plain": [
       "['UV Protection Retro Square Sunglasses (Free Size)',\n",
       " 'UV Protection Aviator Sunglasses (55)']"
      ]
     },
     "execution_count": 129,
     "metadata": {},
     "output_type": "execute_result"
    }
   ],
   "source": [
    "product_titles = []\n",
    "for i in product_tags:\n",
    "    product_titles.append(i.text)\n",
    "    \n",
    "len(product_titles)\n",
    "product_titles[0:2]"
   ]
  },
  {
   "cell_type": "code",
   "execution_count": 130,
   "id": "da5b5955",
   "metadata": {},
   "outputs": [
    {
     "data": {
      "text/plain": [
       "[<selenium.webdriver.remote.webelement.WebElement (session=\"da4e6bbaa0a94f734c10f318212e2ec6\", element=\"efd0cd8c-9625-43fe-a39a-7a5a319f8825\")>,\n",
       " <selenium.webdriver.remote.webelement.WebElement (session=\"da4e6bbaa0a94f734c10f318212e2ec6\", element=\"7efd0837-6ed9-4684-9d82-54f95504eb5e\")>]"
      ]
     },
     "execution_count": 130,
     "metadata": {},
     "output_type": "execute_result"
    }
   ],
   "source": [
    "price_tags = driver.find_elements_by_xpath('//a[@class=\"_3bPFwb\"]')\n",
    "len(price_tags)\n",
    "price_tags[0:2]"
   ]
  },
  {
   "cell_type": "code",
   "execution_count": 131,
   "id": "9bbd7855",
   "metadata": {},
   "outputs": [
    {
     "data": {
      "text/plain": [
       "['₹329₹2,59987% off', '₹225₹1,59985% off']"
      ]
     },
     "execution_count": 131,
     "metadata": {},
     "output_type": "execute_result"
    }
   ],
   "source": [
    "price_titles = []\n",
    "for i in price_tags:\n",
    "    price_titles.append(i.text)\n",
    "    \n",
    "len(price_titles)\n",
    "price_titles[0:2]"
   ]
  },
  {
   "cell_type": "raw",
   "id": "723448ee",
   "metadata": {},
   "source": [
    "Q5Scrape 100 reviews data from flipkart.com for iphone11 phone. You have to go the link: https://www.flipkart.com/apple-iphone-11-black-64-gb-includes- earpods-power- adapter/p/itm0f37c2240b217?pid=MOBFKCTSVZAXUHGR&lid=LSTMOBFKC TSVZAXUHGREPBFGI&marketplace.\n",
    "When you will open the above link you will reach to the below shown webpage .\n",
    "As shown in the above page you have to scrape the tick marked attributes.These are:\n",
    "1. Rating\n",
    "2. Review summary\n",
    "3. Full review\n",
    "4. You have to scrape this data for first 100 reviews."
   ]
  },
  {
   "cell_type": "code",
   "execution_count": 132,
   "id": "c28133b8",
   "metadata": {},
   "outputs": [],
   "source": [
    "driver=webdriver.Chrome(r'C:\\Users\\Jai Mata Di\\Downloads\\chromedriver_win32\\chromedriver.exe')"
   ]
  },
  {
   "cell_type": "code",
   "execution_count": 133,
   "id": "5d26b950",
   "metadata": {},
   "outputs": [],
   "source": [
    "driver=webdriver.Chrome('chromedriver.exe')"
   ]
  },
  {
   "cell_type": "code",
   "execution_count": 134,
   "id": "aa1d5f20",
   "metadata": {},
   "outputs": [],
   "source": [
    "url='https://www.flipkart.com/apple-iphone-11-black-64-gb-includes- earpods-power- adapter/p/itm0f37c2240b217?pid=MOBFKCTSVZAXUHGR&lid=LSTMOBFKC TSVZAXUHGREPBFGI&marketplace'"
   ]
  },
  {
   "cell_type": "code",
   "execution_count": 135,
   "id": "7452b464",
   "metadata": {},
   "outputs": [],
   "source": [
    "driver.get(url)"
   ]
  },
  {
   "cell_type": "code",
   "execution_count": 136,
   "id": "f06b7ef0",
   "metadata": {},
   "outputs": [
    {
     "data": {
      "text/plain": [
       "[<selenium.webdriver.remote.webelement.WebElement (session=\"6f0098e53d82857b9bede0011c4c8c51\", element=\"cb37e6ec-5f2a-48b4-8c82-892744a08bb3\")>]"
      ]
     },
     "execution_count": 136,
     "metadata": {},
     "output_type": "execute_result"
    }
   ],
   "source": [
    "rating_tags = driver.find_elements_by_xpath('//div[@class=\"_3LWZlK\"]')\n",
    "len(rating_tags)\n",
    "rating_tags[0:2]"
   ]
  },
  {
   "cell_type": "code",
   "execution_count": 137,
   "id": "1ffb803a",
   "metadata": {},
   "outputs": [
    {
     "data": {
      "text/plain": [
       "['4.6']"
      ]
     },
     "execution_count": 137,
     "metadata": {},
     "output_type": "execute_result"
    }
   ],
   "source": [
    "rating_titles = []\n",
    "for i in rating_tags:\n",
    "    rating_titles.append(i.text)\n",
    "    \n",
    "len(rating_titles)\n",
    "rating_titles[0:2]"
   ]
  },
  {
   "cell_type": "code",
   "execution_count": 138,
   "id": "0cd91571",
   "metadata": {},
   "outputs": [
    {
     "data": {
      "text/plain": [
       "[<selenium.webdriver.remote.webelement.WebElement (session=\"6f0098e53d82857b9bede0011c4c8c51\", element=\"81ae3056-1fae-4366-a867-11e82bc71bbd\")>,\n",
       " <selenium.webdriver.remote.webelement.WebElement (session=\"6f0098e53d82857b9bede0011c4c8c51\", element=\"4ed6b34b-293a-4bcf-87a5-f905ab2bb756\")>]"
      ]
     },
     "execution_count": 138,
     "metadata": {},
     "output_type": "execute_result"
    }
   ],
   "source": [
    "review_tags = driver.find_elements_by_xpath('//div[@class=\"row _2afbiS\"]')\n",
    "len(review_tags)\n",
    "review_tags[0:2]"
   ]
  },
  {
   "cell_type": "code",
   "execution_count": 139,
   "id": "80e1340c",
   "metadata": {},
   "outputs": [
    {
     "data": {
      "text/plain": [
       "['77,851 Ratings &', '5,879 Reviews']"
      ]
     },
     "execution_count": 139,
     "metadata": {},
     "output_type": "execute_result"
    }
   ],
   "source": [
    "review_titles = []\n",
    "for i in review_tags:\n",
    "    review_titles.append(i.text)\n",
    "    \n",
    "len(review_titles)\n",
    "review_titles[0:2]"
   ]
  },
  {
   "cell_type": "code",
   "execution_count": 140,
   "id": "0608aa9c",
   "metadata": {},
   "outputs": [
    {
     "data": {
      "text/plain": [
       "[<selenium.webdriver.remote.webelement.WebElement (session=\"6f0098e53d82857b9bede0011c4c8c51\", element=\"3c9cabf1-c6b3-4827-9d01-26324df20f8e\")>,\n",
       " <selenium.webdriver.remote.webelement.WebElement (session=\"6f0098e53d82857b9bede0011c4c8c51\", element=\"9a1bb015-3567-4275-963c-db45880bf252\")>,\n",
       " <selenium.webdriver.remote.webelement.WebElement (session=\"6f0098e53d82857b9bede0011c4c8c51\", element=\"d5384d96-14bc-4465-a61f-a24f13c68a1f\")>,\n",
       " <selenium.webdriver.remote.webelement.WebElement (session=\"6f0098e53d82857b9bede0011c4c8c51\", element=\"c3c9e6bc-4a58-44a9-b68c-48d865625c8b\")>,\n",
       " <selenium.webdriver.remote.webelement.WebElement (session=\"6f0098e53d82857b9bede0011c4c8c51\", element=\"07f848eb-c533-4858-a702-2ed0d3c7d1f0\")>,\n",
       " <selenium.webdriver.remote.webelement.WebElement (session=\"6f0098e53d82857b9bede0011c4c8c51\", element=\"d899b573-6614-41dc-b84c-597a2a7a0350\")>,\n",
       " <selenium.webdriver.remote.webelement.WebElement (session=\"6f0098e53d82857b9bede0011c4c8c51\", element=\"70cc5567-bbe5-4e77-b93c-7fd7dc78eb8f\")>,\n",
       " <selenium.webdriver.remote.webelement.WebElement (session=\"6f0098e53d82857b9bede0011c4c8c51\", element=\"bf40ba72-14e8-424a-b8a2-77c961bca67a\")>,\n",
       " <selenium.webdriver.remote.webelement.WebElement (session=\"6f0098e53d82857b9bede0011c4c8c51\", element=\"9c024e72-de70-486e-ae0b-2baaf7a02c8b\")>,\n",
       " <selenium.webdriver.remote.webelement.WebElement (session=\"6f0098e53d82857b9bede0011c4c8c51\", element=\"e3316002-56dd-4bde-8c86-bb143c5682a4\")>]"
      ]
     },
     "execution_count": 140,
     "metadata": {},
     "output_type": "execute_result"
    }
   ],
   "source": [
    "review_tags = driver.find_elements_by_xpath('//div[@class=\"_3LWZlK _1BLPMq\"]')\n",
    "len(review_tags)\n",
    "review_tags[0:100]"
   ]
  },
  {
   "cell_type": "code",
   "execution_count": 141,
   "id": "ad1865bb",
   "metadata": {},
   "outputs": [
    {
     "data": {
      "text/plain": [
       "['5', '5', '5', '', '', '', '', '', '', '']"
      ]
     },
     "execution_count": 141,
     "metadata": {},
     "output_type": "execute_result"
    }
   ],
   "source": [
    "review_titles = []\n",
    "for i in review_tags:\n",
    "    review_titles.append(i.text)\n",
    "    \n",
    "len(review_titles)\n",
    "review_titles[0:100]"
   ]
  },
  {
   "cell_type": "raw",
   "id": "104676d8",
   "metadata": {},
   "source": [
    "Q6Scrape data for first 100 sneakers you find when you visit flipkart.com andsearch for “sneakers” in the search field.\n",
    "You have to scrape 4 attributes of each sneaker:\n",
    "1. Brand\n",
    "2. Product Description\n",
    "3. Price"
   ]
  },
  {
   "cell_type": "code",
   "execution_count": 142,
   "id": "b0db8c2e",
   "metadata": {},
   "outputs": [],
   "source": [
    "driver=webdriver.Chrome(r'C:\\Users\\Jai Mata Di\\Downloads\\chromedriver_win32\\chromedriver.exe')"
   ]
  },
  {
   "cell_type": "code",
   "execution_count": 143,
   "id": "9a3ec62f",
   "metadata": {},
   "outputs": [],
   "source": [
    "driver=webdriver.Chrome('chromedriver.exe')"
   ]
  },
  {
   "cell_type": "code",
   "execution_count": 144,
   "id": "a90cc290",
   "metadata": {},
   "outputs": [],
   "source": [
    "url='https://www.flipkart.com/'"
   ]
  },
  {
   "cell_type": "code",
   "execution_count": 145,
   "id": "e9eb4b03",
   "metadata": {},
   "outputs": [],
   "source": [
    "driver.get(url)"
   ]
  },
  {
   "cell_type": "code",
   "execution_count": 147,
   "id": "9d169209",
   "metadata": {},
   "outputs": [
    {
     "data": {
      "text/plain": [
       "<selenium.webdriver.remote.webelement.WebElement (session=\"0128826378500e6235029b20e9524519\", element=\"f05b463e-1d06-4d58-b72d-9d752b1c55d4\")>"
      ]
     },
     "execution_count": 147,
     "metadata": {},
     "output_type": "execute_result"
    }
   ],
   "source": [
    "search_item=driver.find_element_by_xpath('/html/body/div[1]/div/div[1]/div[1]/div[2]/div[2]/form/div/div/input')\n",
    "search_item"
   ]
  },
  {
   "cell_type": "code",
   "execution_count": 148,
   "id": "1e891a65",
   "metadata": {},
   "outputs": [],
   "source": [
    "search_item.send_keys(\"sneakers\")"
   ]
  },
  {
   "cell_type": "code",
   "execution_count": 149,
   "id": "ad7b39e9",
   "metadata": {},
   "outputs": [
    {
     "data": {
      "text/plain": [
       "<selenium.webdriver.remote.webelement.WebElement (session=\"0128826378500e6235029b20e9524519\", element=\"9638544f-75e0-46aa-addf-cb1adf950eda\")>"
      ]
     },
     "execution_count": 149,
     "metadata": {},
     "output_type": "execute_result"
    }
   ],
   "source": [
    "search_btn=driver.find_element_by_xpath('/html/body/div[1]/div/div[1]/div[1]/div[2]/div[2]/form/div/button')\n",
    "search_btn"
   ]
  },
  {
   "cell_type": "code",
   "execution_count": 150,
   "id": "9e77786e",
   "metadata": {},
   "outputs": [],
   "source": [
    "search_btn.click()"
   ]
  },
  {
   "cell_type": "code",
   "execution_count": 153,
   "id": "b7b64ecf",
   "metadata": {},
   "outputs": [],
   "source": [
    "brand_check=driver.find_element_by_xpath('/html/body/div[1]/div/div[3]/div[1]/div[1]/div/div/div/section[4]/div[1]/div')"
   ]
  },
  {
   "cell_type": "code",
   "execution_count": 154,
   "id": "5a83334f",
   "metadata": {},
   "outputs": [],
   "source": [
    "brand_check.click()"
   ]
  },
  {
   "cell_type": "code",
   "execution_count": 160,
   "id": "902e8b0b",
   "metadata": {},
   "outputs": [
    {
     "data": {
      "text/plain": [
       "[<selenium.webdriver.remote.webelement.WebElement (session=\"0128826378500e6235029b20e9524519\", element=\"483c41bf-93d7-48c5-a9eb-813f324a95a6\")>,\n",
       " <selenium.webdriver.remote.webelement.WebElement (session=\"0128826378500e6235029b20e9524519\", element=\"597a564e-d2fa-4c32-90a8-5e7da865a04f\")>]"
      ]
     },
     "execution_count": 160,
     "metadata": {},
     "output_type": "execute_result"
    }
   ],
   "source": [
    "brand_tags = driver.find_elements_by_xpath('//div[@class=\"_3879cV\"]')\n",
    "len(brand_tags)\n",
    "brand_tags[0:2]"
   ]
  },
  {
   "cell_type": "code",
   "execution_count": 161,
   "id": "a854398a",
   "metadata": {},
   "outputs": [
    {
     "data": {
      "text/plain": [
       "['', 'aadi']"
      ]
     },
     "execution_count": 161,
     "metadata": {},
     "output_type": "execute_result"
    }
   ],
   "source": [
    "brand_titles = []\n",
    "for i in brand_tags:\n",
    "    brand_titles.append(i.text)\n",
    "    \n",
    "len(brand_titles)\n",
    "brand_titles[0:2]"
   ]
  },
  {
   "cell_type": "code",
   "execution_count": 162,
   "id": "f1418089",
   "metadata": {},
   "outputs": [
    {
     "data": {
      "text/plain": [
       "[<selenium.webdriver.remote.webelement.WebElement (session=\"0128826378500e6235029b20e9524519\", element=\"44b6d805-3ae0-4d20-9394-467719dfab2b\")>,\n",
       " <selenium.webdriver.remote.webelement.WebElement (session=\"0128826378500e6235029b20e9524519\", element=\"7597afe1-6f93-4cc0-81a6-bfb6c8873e56\")>]"
      ]
     },
     "execution_count": 162,
     "metadata": {},
     "output_type": "execute_result"
    }
   ],
   "source": [
    "product_tags = driver.find_elements_by_xpath('//a[@class=\"IRpwTa\"]')\n",
    "len(product_tags)\n",
    "product_tags[0:2]"
   ]
  },
  {
   "cell_type": "code",
   "execution_count": 163,
   "id": "6ba018ed",
   "metadata": {},
   "outputs": [
    {
     "data": {
      "text/plain": [
       "['Sneakers For Men', 'Sneakers For Men']"
      ]
     },
     "execution_count": 163,
     "metadata": {},
     "output_type": "execute_result"
    }
   ],
   "source": [
    "product_titles = []\n",
    "for i in product_tags:\n",
    "    product_titles.append(i.text)\n",
    "    \n",
    "len(product_titles)\n",
    "product_titles[0:2]"
   ]
  },
  {
   "cell_type": "code",
   "execution_count": 164,
   "id": "41a08a6c",
   "metadata": {},
   "outputs": [
    {
     "data": {
      "text/plain": [
       "[<selenium.webdriver.remote.webelement.WebElement (session=\"0128826378500e6235029b20e9524519\", element=\"9c4ed9d3-78de-43de-a87e-95958c7ae7e2\")>,\n",
       " <selenium.webdriver.remote.webelement.WebElement (session=\"0128826378500e6235029b20e9524519\", element=\"e48024d3-a559-4848-8103-6fa15ce62b8d\")>]"
      ]
     },
     "execution_count": 164,
     "metadata": {},
     "output_type": "execute_result"
    }
   ],
   "source": [
    "price_tags = driver.find_elements_by_xpath('//a[@class=\"_3bPFwb\"]')\n",
    "len(price_tags)\n",
    "price_tags[0:2]"
   ]
  },
  {
   "cell_type": "code",
   "execution_count": 165,
   "id": "1b974c61",
   "metadata": {},
   "outputs": [
    {
     "data": {
      "text/plain": [
       "['₹398₹99960% off', '₹220₹99977% off']"
      ]
     },
     "execution_count": 165,
     "metadata": {},
     "output_type": "execute_result"
    }
   ],
   "source": [
    "price_titles = []\n",
    "for i in price_tags:\n",
    "    price_titles.append(i.text)\n",
    "    \n",
    "len(price_titles)\n",
    "price_titles[0:2]"
   ]
  },
  {
   "cell_type": "raw",
   "id": "be94ca9c",
   "metadata": {},
   "source": [
    "Q7:Go to the link - https://www.myntra.com/shoes\n",
    "Set Price filter to “Rs. 7149 to Rs. 14099 ” , Color filter to “Black”, as shown inthe below image.\n",
    "And then scrape First 100 shoes data you get. The data should include “Brand” of the shoes , Short Shoe description, price of the shoe as shown in the below image."
   ]
  },
  {
   "cell_type": "code",
   "execution_count": 166,
   "id": "0478add2",
   "metadata": {},
   "outputs": [],
   "source": [
    "driver=webdriver.Chrome(r'C:\\Users\\Jai Mata Di\\Downloads\\chromedriver_win32\\chromedriver.exe')"
   ]
  },
  {
   "cell_type": "code",
   "execution_count": 167,
   "id": "b115dac1",
   "metadata": {},
   "outputs": [],
   "source": [
    "driver=webdriver.Chrome('chromedriver.exe')"
   ]
  },
  {
   "cell_type": "code",
   "execution_count": 168,
   "id": "9c7ca199",
   "metadata": {},
   "outputs": [],
   "source": [
    "url='https://www.myntra.com/shoes'"
   ]
  },
  {
   "cell_type": "code",
   "execution_count": 169,
   "id": "6cd8b528",
   "metadata": {},
   "outputs": [],
   "source": [
    "driver.get(url)"
   ]
  },
  {
   "cell_type": "code",
   "execution_count": 178,
   "id": "7a7dc215",
   "metadata": {},
   "outputs": [],
   "source": [
    "price_check=driver.find_element_by_xpath('/html/body/div[2]/div/div[1]/main/div[3]/div[1]/section/div/div[5]/ul/li[2]/label/div')"
   ]
  },
  {
   "cell_type": "code",
   "execution_count": 179,
   "id": "db8348e5",
   "metadata": {},
   "outputs": [],
   "source": [
    "price_check.click()"
   ]
  },
  {
   "cell_type": "code",
   "execution_count": 181,
   "id": "3d6abb76",
   "metadata": {},
   "outputs": [],
   "source": [
    "color_check=driver.find_element_by_xpath('/html/body/div[2]/div/div[1]/main/div[3]/div[1]/section/div/div[6]/ul/li[1]/label')"
   ]
  },
  {
   "cell_type": "code",
   "execution_count": 182,
   "id": "ed768910",
   "metadata": {},
   "outputs": [],
   "source": [
    "color_check.click()"
   ]
  },
  {
   "cell_type": "code",
   "execution_count": 198,
   "id": "c72525d2",
   "metadata": {},
   "outputs": [
    {
     "data": {
      "text/plain": [
       "[<selenium.webdriver.remote.webelement.WebElement (session=\"46cf27446e87a8036fb81d88a4d4b4c3\", element=\"cb0692be-0b11-4955-93c7-9ec8aba14502\")>,\n",
       " <selenium.webdriver.remote.webelement.WebElement (session=\"46cf27446e87a8036fb81d88a4d4b4c3\", element=\"4a5223a3-9568-47ac-9c42-b3753728e222\")>,\n",
       " <selenium.webdriver.remote.webelement.WebElement (session=\"46cf27446e87a8036fb81d88a4d4b4c3\", element=\"5b666761-a62b-4e5a-9be6-3d73a3eb963d\")>,\n",
       " <selenium.webdriver.remote.webelement.WebElement (session=\"46cf27446e87a8036fb81d88a4d4b4c3\", element=\"a339ebfc-17bd-4c0c-8920-e3f3ac670bb5\")>,\n",
       " <selenium.webdriver.remote.webelement.WebElement (session=\"46cf27446e87a8036fb81d88a4d4b4c3\", element=\"fcc091f5-61e9-45bc-a4d6-e4e4fcd88854\")>,\n",
       " <selenium.webdriver.remote.webelement.WebElement (session=\"46cf27446e87a8036fb81d88a4d4b4c3\", element=\"22eda3be-23fc-42de-96b1-97e069f42c68\")>,\n",
       " <selenium.webdriver.remote.webelement.WebElement (session=\"46cf27446e87a8036fb81d88a4d4b4c3\", element=\"7ef8422f-6cc1-425d-baf2-904032ce0e3c\")>,\n",
       " <selenium.webdriver.remote.webelement.WebElement (session=\"46cf27446e87a8036fb81d88a4d4b4c3\", element=\"00cc6e61-e95c-404e-9cea-deb5c88b1726\")>]"
      ]
     },
     "execution_count": 198,
     "metadata": {},
     "output_type": "execute_result"
    }
   ],
   "source": [
    "brand_tags = driver.find_elements_by_xpath('//label[@class=\"vertical-filters-label common-customCheckbox\"]')\n",
    "len(brand_tags)\n",
    "brand_tags[0:100]"
   ]
  },
  {
   "cell_type": "code",
   "execution_count": 199,
   "id": "95f88550",
   "metadata": {},
   "outputs": [
    {
     "data": {
      "text/plain": [
       "['Geox(78)',\n",
       " 'Saint G(67)',\n",
       " 'Delize(62)',\n",
       " 'ROSSO BRUNELLO(53)',\n",
       " 'ECCO(30)',\n",
       " 'DAVINCHI(29)',\n",
       " 'ALDO(26)',\n",
       " 'Birkenstock(20)']"
      ]
     },
     "execution_count": 199,
     "metadata": {},
     "output_type": "execute_result"
    }
   ],
   "source": [
    "brand_titles = []\n",
    "for i in brand_tags:\n",
    "    brand_titles.append(i.text)\n",
    "    \n",
    "len(brand_titles)\n",
    "brand_titles[0:100]"
   ]
  },
  {
   "cell_type": "code",
   "execution_count": 200,
   "id": "868b3352",
   "metadata": {},
   "outputs": [
    {
     "data": {
      "text/plain": [
       "[]"
      ]
     },
     "execution_count": 200,
     "metadata": {},
     "output_type": "execute_result"
    }
   ],
   "source": [
    "product_tags = driver.find_elements_by_xpath('//a[@class=\"pdp-name\"]')\n",
    "len(product_tags)\n",
    "product_tags[0:2]"
   ]
  },
  {
   "cell_type": "code",
   "execution_count": 201,
   "id": "85e151f5",
   "metadata": {},
   "outputs": [
    {
     "data": {
      "text/plain": [
       "[]"
      ]
     },
     "execution_count": 201,
     "metadata": {},
     "output_type": "execute_result"
    }
   ],
   "source": [
    "product_titles = []\n",
    "for i in product_tags:\n",
    "    product_titles.append(i.text)\n",
    "    \n",
    "len(product_titles)\n",
    "product_titles[0:2]"
   ]
  },
  {
   "cell_type": "code",
   "execution_count": 202,
   "id": "378623db",
   "metadata": {},
   "outputs": [
    {
     "data": {
      "text/plain": [
       "[<selenium.webdriver.remote.webelement.WebElement (session=\"46cf27446e87a8036fb81d88a4d4b4c3\", element=\"808502cb-1360-466c-8e6c-53ae89c15ae4\")>,\n",
       " <selenium.webdriver.remote.webelement.WebElement (session=\"46cf27446e87a8036fb81d88a4d4b4c3\", element=\"8a1540e1-9d04-4525-9e64-086a333ced59\")>,\n",
       " <selenium.webdriver.remote.webelement.WebElement (session=\"46cf27446e87a8036fb81d88a4d4b4c3\", element=\"b0e879c1-cd87-4f11-b24d-356b553db198\")>,\n",
       " <selenium.webdriver.remote.webelement.WebElement (session=\"46cf27446e87a8036fb81d88a4d4b4c3\", element=\"d0c72824-e34c-4f5c-b06c-3a4508b535d2\")>,\n",
       " <selenium.webdriver.remote.webelement.WebElement (session=\"46cf27446e87a8036fb81d88a4d4b4c3\", element=\"53ec1627-4794-451b-bc3b-64017beef942\")>,\n",
       " <selenium.webdriver.remote.webelement.WebElement (session=\"46cf27446e87a8036fb81d88a4d4b4c3\", element=\"6e87c803-6914-41d7-9330-7a150be25565\")>,\n",
       " <selenium.webdriver.remote.webelement.WebElement (session=\"46cf27446e87a8036fb81d88a4d4b4c3\", element=\"1c93d0ac-1263-4f08-9ac3-16a0f183dfe8\")>,\n",
       " <selenium.webdriver.remote.webelement.WebElement (session=\"46cf27446e87a8036fb81d88a4d4b4c3\", element=\"f064bc52-573a-4c10-a26e-b41e825a46b0\")>,\n",
       " <selenium.webdriver.remote.webelement.WebElement (session=\"46cf27446e87a8036fb81d88a4d4b4c3\", element=\"3ab0fc4e-4d08-466a-892a-53d5256876ef\")>,\n",
       " <selenium.webdriver.remote.webelement.WebElement (session=\"46cf27446e87a8036fb81d88a4d4b4c3\", element=\"74133c1a-7841-41e1-9301-a2917c0ccacf\")>]"
      ]
     },
     "execution_count": 202,
     "metadata": {},
     "output_type": "execute_result"
    }
   ],
   "source": [
    "price_tags = driver.find_elements_by_xpath('//span[@class=\"product-discountedPrice\"]')\n",
    "len(price_tags)\n",
    "price_tags[0:100]"
   ]
  },
  {
   "cell_type": "code",
   "execution_count": 203,
   "id": "bca243dd",
   "metadata": {},
   "outputs": [
    {
     "data": {
      "text/plain": [
       "['Rs. 8399',\n",
       " 'Rs. 10499',\n",
       " 'Rs. 8399',\n",
       " 'Rs. 12599',\n",
       " 'Rs. 8399',\n",
       " 'Rs. 7699',\n",
       " 'Rs. 7699',\n",
       " 'Rs. 9099',\n",
       " 'Rs. 8399',\n",
       " 'Rs. 8393']"
      ]
     },
     "execution_count": 203,
     "metadata": {},
     "output_type": "execute_result"
    }
   ],
   "source": [
    "price_titles = []\n",
    "for i in price_tags:\n",
    "    price_titles.append(i.text)\n",
    "    \n",
    "len(price_titles)\n",
    "price_titles[0:100]"
   ]
  },
  {
   "cell_type": "raw",
   "id": "007d6a06",
   "metadata": {},
   "source": [
    "Q.8:Go to webpage https://www.amazon.in/\n",
    "Enter “Laptop” in the search field and then click the search icon.\n",
    "Then set CPU Type filter to “Intel Core i7” and “Intel Core i9” as shown in the below image:\n",
    "After setting the filters scrape first 10 laptops data. You have to scrape 3 attributesfor each laptop:\n",
    "1. Title\n",
    "2. Ratings\n",
    "3. Price\n",
    "As shown in the below image as the tick marked attributes."
   ]
  },
  {
   "cell_type": "code",
   "execution_count": 239,
   "id": "7bcf289d",
   "metadata": {},
   "outputs": [],
   "source": [
    "driver=webdriver.Chrome(r'C:\\Users\\Jai Mata Di\\Downloads\\chromedriver_win32\\chromedriver.exe')"
   ]
  },
  {
   "cell_type": "code",
   "execution_count": 240,
   "id": "2840d996",
   "metadata": {},
   "outputs": [],
   "source": [
    "driver=webdriver.Chrome('chromedriver.exe')"
   ]
  },
  {
   "cell_type": "code",
   "execution_count": 241,
   "id": "b11b6874",
   "metadata": {},
   "outputs": [],
   "source": [
    "url='https://www.amazon.in/'\n"
   ]
  },
  {
   "cell_type": "code",
   "execution_count": 242,
   "id": "76d275b1",
   "metadata": {},
   "outputs": [],
   "source": [
    "driver.get(url)"
   ]
  },
  {
   "cell_type": "code",
   "execution_count": 243,
   "id": "b93792c0",
   "metadata": {},
   "outputs": [
    {
     "data": {
      "text/plain": [
       "<selenium.webdriver.remote.webelement.WebElement (session=\"8368e1b6527b3de8aad33a4c7bace000\", element=\"bc6cb578-6e32-4155-83fa-3799bfb361d0\")>"
      ]
     },
     "execution_count": 243,
     "metadata": {},
     "output_type": "execute_result"
    }
   ],
   "source": [
    "search_item=driver.find_element_by_xpath('/html/body/div[1]/header/div/div[1]/div[2]/div/form/div[2]/div[1]/input')\n",
    "search_item"
   ]
  },
  {
   "cell_type": "code",
   "execution_count": 244,
   "id": "64e4f15a",
   "metadata": {},
   "outputs": [],
   "source": [
    "search_item.send_keys(\"Laptop\")"
   ]
  },
  {
   "cell_type": "code",
   "execution_count": 245,
   "id": "b885af52",
   "metadata": {},
   "outputs": [
    {
     "data": {
      "text/plain": [
       "<selenium.webdriver.remote.webelement.WebElement (session=\"8368e1b6527b3de8aad33a4c7bace000\", element=\"01ef3279-3c93-43ff-86b0-f63573980161\")>"
      ]
     },
     "execution_count": 245,
     "metadata": {},
     "output_type": "execute_result"
    }
   ],
   "source": [
    "search_btn=driver.find_element_by_xpath('/html/body/div[1]/header/div/div[1]/div[2]/div/form/div[3]/div/span/input')\n",
    "search_btn"
   ]
  },
  {
   "cell_type": "code",
   "execution_count": 246,
   "id": "760b0342",
   "metadata": {},
   "outputs": [],
   "source": [
    "search_btn.click()"
   ]
  },
  {
   "cell_type": "code",
   "execution_count": 248,
   "id": "a6083830",
   "metadata": {},
   "outputs": [],
   "source": [
    "cpu_check=driver.find_element_by_xpath('/html/body/div[1]/div[2]/div[1]/div[2]/div/div[3]/span/div[1]/span/div/div/div[6]/div/div/div[1]/div/span[1]/a[12]/div/span')"
   ]
  },
  {
   "cell_type": "code",
   "execution_count": 249,
   "id": "5589f16b",
   "metadata": {},
   "outputs": [],
   "source": [
    "cpu_check.click()"
   ]
  },
  {
   "cell_type": "code",
   "execution_count": 252,
   "id": "b0bfdcae",
   "metadata": {},
   "outputs": [
    {
     "data": {
      "text/plain": [
       "[<selenium.webdriver.remote.webelement.WebElement (session=\"8368e1b6527b3de8aad33a4c7bace000\", element=\"2eff2139-11d1-4572-8931-d26f62814e8e\")>,\n",
       " <selenium.webdriver.remote.webelement.WebElement (session=\"8368e1b6527b3de8aad33a4c7bace000\", element=\"77c93853-045a-4006-9228-38b3c5a482c2\")>,\n",
       " <selenium.webdriver.remote.webelement.WebElement (session=\"8368e1b6527b3de8aad33a4c7bace000\", element=\"8eb3f5f4-7dcf-4946-b93b-7924565fd38e\")>,\n",
       " <selenium.webdriver.remote.webelement.WebElement (session=\"8368e1b6527b3de8aad33a4c7bace000\", element=\"c25b4ffc-de07-4fde-b197-d5bcccd74371\")>,\n",
       " <selenium.webdriver.remote.webelement.WebElement (session=\"8368e1b6527b3de8aad33a4c7bace000\", element=\"5b2803dd-b2db-4946-a4c7-4545e174ba3c\")>,\n",
       " <selenium.webdriver.remote.webelement.WebElement (session=\"8368e1b6527b3de8aad33a4c7bace000\", element=\"f30aaea6-e1db-43a7-81e2-5fd6d560f06e\")>,\n",
       " <selenium.webdriver.remote.webelement.WebElement (session=\"8368e1b6527b3de8aad33a4c7bace000\", element=\"bef18e22-3aaa-4211-b681-d6c4f544ab62\")>,\n",
       " <selenium.webdriver.remote.webelement.WebElement (session=\"8368e1b6527b3de8aad33a4c7bace000\", element=\"3b2e5a75-0a8d-428b-bb90-91698101dd7f\")>,\n",
       " <selenium.webdriver.remote.webelement.WebElement (session=\"8368e1b6527b3de8aad33a4c7bace000\", element=\"67726bc1-8edd-411a-840d-f34803c4ce05\")>,\n",
       " <selenium.webdriver.remote.webelement.WebElement (session=\"8368e1b6527b3de8aad33a4c7bace000\", element=\"e3fd5cbb-0ab7-4bef-b0c1-3812e9df80ea\")>]"
      ]
     },
     "execution_count": 252,
     "metadata": {},
     "output_type": "execute_result"
    }
   ],
   "source": [
    "title_tags = driver.find_elements_by_xpath('//span[@class=\"a-size-medium a-color-base a-text-normal\"]')\n",
    "len(title_tags)\n",
    "title_tags[0:10]"
   ]
  },
  {
   "cell_type": "code",
   "execution_count": 254,
   "id": "d3d339d0",
   "metadata": {},
   "outputs": [
    {
     "data": {
      "text/plain": [
       "['LG Gram 17-inches Ultra-Light Intel Evo 11th Gen Core i7,16 GB RAM, 512 GB SSD, New Win-11 Preload, Iris Xe Graphics, USC -C x 2 (with Power), 1.35 kg, 3 Yr Warranty (17Z90P-G.AH85A2, Black)',\n",
       " 'LG Gram 16-inches Ultra-Light Intel Evo 11th Gen Core i7,16 GB RAM, 512 GB SSD, New Win-11 Preload, Iris Xe Graphics, USC -C x 2 (with Power), 1.19 kg, 3 Yr Warranty (16Z90P-G.AH85A2, Black)',\n",
       " 'Mi Notebook Horizon Edition 14 Intel Core i7-10510U 10th Gen Thin and Light Laptop(8GB/512GB SSD/Windows 10/Nvidia MX350 2GB Graphics/Grey/1.35Kg)(Without Webcam) XMA1904-AF',\n",
       " 'LG Gram 17-inches Ultra-Light Intel Evo 11th Gen Core i7,16 GB RAM, 512 GB SSD, New Win-11 Preload, Iris Xe Graphics, USC -C x 2 (with Power), 1.35 kg, 3 Yr Warranty (17Z90P-G.AH85A2, Black)',\n",
       " 'Lenovo ThinkBook 13s Intel 11th Gen Core i7 13.3\"(33.78 cm) WQXGA IPS 300 nits 100% sRGB Dolby Vision Thin and Light Laptop (16GB/512GB SSD/Windows 10/MS Office/FPR/Mineral Grey/1.26 Kg), 20V9A05FIH',\n",
       " 'HP Pavilion x360 11th Gen Intel Core i7-16GB RAM/512GB SSD 14-inch(35.6 cm) FHD, IPS, Convertible Laptop (B&O/Win 11/Backlit keyboard/FPR/ Alexa-Built in/MS Office/Natural Silver/1.52 Kg) -14-dy1013TU',\n",
       " 'Fujitsu UH-X 11th Gen Intel i7 Core 13.3” (33.78cm) FHD IPS 400Nits Thin & Light Laptop (16GB/512GB SSD/Windows 11/Office 2021/Iris Xe Graphics/Backlit Kb/ Fingerprint Reader/Black/878gms), 4ZR1F38024',\n",
       " 'ASUS TUF Dash F15 (2021), 15.6-inch (39.62 cms) FHD 144Hz, Intel Core i7-11370H 11th Gen, RTX 3050 4GB Graphics Gaming Laptop (16GB RAM/512GB SSD/Windows 10/White/2 kg), FX516PC-HN062T',\n",
       " 'ASUS TUF Dash F15 (2021) 15.6-inch (39.62 cms) FHD 144Hz, Intel Core i7-11370H 11th Gen, RTX 3050 Ti 4GB Graphics, Gaming Laptop (16GB/1TB SSD/Office 2019/Windows 10/Gray/2 Kg), FX516PEZ-HN105TS',\n",
       " 'Acer Nitro 5 AN515-57 Gaming Laptop | Intel Core i7-11800H |NVIDIA GeForce RTX 3050 Ti Laptop Graphics |15.6\" FHD 144Hz IPS Display |16GB DDR4 |256GB SSD+1TB HDD |Killer Wi-Fi 6 |RGB Backlit Keyboard']"
      ]
     },
     "execution_count": 254,
     "metadata": {},
     "output_type": "execute_result"
    }
   ],
   "source": [
    "title_titles = []\n",
    "for i in title_tags:\n",
    "    title_titles.append(i.text)\n",
    "    \n",
    "len(title_titles)\n",
    "title_titles[0:10]"
   ]
  },
  {
   "cell_type": "code",
   "execution_count": 269,
   "id": "d669453b",
   "metadata": {},
   "outputs": [
    {
     "data": {
      "text/plain": [
       "[<selenium.webdriver.remote.webelement.WebElement (session=\"8368e1b6527b3de8aad33a4c7bace000\", element=\"1bb2b584-7485-46a8-b556-e53683d2f9a3\")>,\n",
       " <selenium.webdriver.remote.webelement.WebElement (session=\"8368e1b6527b3de8aad33a4c7bace000\", element=\"0e817cf3-4e91-44bf-ac42-ae879c8cdf52\")>,\n",
       " <selenium.webdriver.remote.webelement.WebElement (session=\"8368e1b6527b3de8aad33a4c7bace000\", element=\"590daa59-0d02-471c-828b-0321546c4f88\")>,\n",
       " <selenium.webdriver.remote.webelement.WebElement (session=\"8368e1b6527b3de8aad33a4c7bace000\", element=\"541c0fea-d5f7-4aca-91aa-a81cb0bbfcf4\")>,\n",
       " <selenium.webdriver.remote.webelement.WebElement (session=\"8368e1b6527b3de8aad33a4c7bace000\", element=\"c3337e5d-1749-4ec7-8941-3b836682b61c\")>,\n",
       " <selenium.webdriver.remote.webelement.WebElement (session=\"8368e1b6527b3de8aad33a4c7bace000\", element=\"1897c104-29f8-4dc5-94bf-841dc2685c2b\")>,\n",
       " <selenium.webdriver.remote.webelement.WebElement (session=\"8368e1b6527b3de8aad33a4c7bace000\", element=\"78ffd2d2-8e49-4df4-bba8-0310542ec4da\")>,\n",
       " <selenium.webdriver.remote.webelement.WebElement (session=\"8368e1b6527b3de8aad33a4c7bace000\", element=\"32652991-cc1f-4283-9539-c64d3bda2fac\")>,\n",
       " <selenium.webdriver.remote.webelement.WebElement (session=\"8368e1b6527b3de8aad33a4c7bace000\", element=\"5b8971c7-cbb9-4788-aed4-bb9c15bc9df7\")>,\n",
       " <selenium.webdriver.remote.webelement.WebElement (session=\"8368e1b6527b3de8aad33a4c7bace000\", element=\"1f945a2b-d795-4e54-b948-fbdcb93c7051\")>]"
      ]
     },
     "execution_count": 269,
     "metadata": {},
     "output_type": "execute_result"
    }
   ],
   "source": [
    "rating_tags = driver.find_elements_by_xpath('//div[@class=\"a-row a-size-small\"]')\n",
    "len(rating_tags)\n",
    "rating_tags[0:10]"
   ]
  },
  {
   "cell_type": "code",
   "execution_count": 270,
   "id": "3cc79f5e",
   "metadata": {},
   "outputs": [
    {
     "data": {
      "text/plain": [
       "['112', '56', '1,015', '112', '32', '34', '43', '8', '7', '39']"
      ]
     },
     "execution_count": 270,
     "metadata": {},
     "output_type": "execute_result"
    }
   ],
   "source": [
    "rating_titles = []\n",
    "for i in rating_tags:\n",
    "    rating_titles.append(i.text)\n",
    "    \n",
    "len(rating_titles)\n",
    "rating_titles[0:10]"
   ]
  },
  {
   "cell_type": "code",
   "execution_count": 273,
   "id": "5ccc3dce",
   "metadata": {},
   "outputs": [
    {
     "data": {
      "text/plain": [
       "[<selenium.webdriver.remote.webelement.WebElement (session=\"8368e1b6527b3de8aad33a4c7bace000\", element=\"dad8aefa-74df-470d-8f0a-c8ee6d0b7d9f\")>,\n",
       " <selenium.webdriver.remote.webelement.WebElement (session=\"8368e1b6527b3de8aad33a4c7bace000\", element=\"f24e22a9-d78c-4928-b975-7e994ef1fd14\")>,\n",
       " <selenium.webdriver.remote.webelement.WebElement (session=\"8368e1b6527b3de8aad33a4c7bace000\", element=\"eb07aa0f-4f2d-4fa0-bf60-9b5feb4816e9\")>,\n",
       " <selenium.webdriver.remote.webelement.WebElement (session=\"8368e1b6527b3de8aad33a4c7bace000\", element=\"644d58e8-62d3-4e14-b61a-7a2660f67fb4\")>,\n",
       " <selenium.webdriver.remote.webelement.WebElement (session=\"8368e1b6527b3de8aad33a4c7bace000\", element=\"d2373d9e-cc0a-4080-b8d4-5eba30559ced\")>,\n",
       " <selenium.webdriver.remote.webelement.WebElement (session=\"8368e1b6527b3de8aad33a4c7bace000\", element=\"606e46a2-e57e-40c3-ae7d-8bebe8690381\")>,\n",
       " <selenium.webdriver.remote.webelement.WebElement (session=\"8368e1b6527b3de8aad33a4c7bace000\", element=\"76eca507-221b-406d-91dc-ff08ade45820\")>,\n",
       " <selenium.webdriver.remote.webelement.WebElement (session=\"8368e1b6527b3de8aad33a4c7bace000\", element=\"db1350f6-b913-4e81-9783-c47f8f0dcdc6\")>,\n",
       " <selenium.webdriver.remote.webelement.WebElement (session=\"8368e1b6527b3de8aad33a4c7bace000\", element=\"ec79e3a0-e100-4755-979f-f57bdf218d5f\")>,\n",
       " <selenium.webdriver.remote.webelement.WebElement (session=\"8368e1b6527b3de8aad33a4c7bace000\", element=\"69c2e09f-8116-49d0-9c94-a4dfc080ab1a\")>]"
      ]
     },
     "execution_count": 273,
     "metadata": {},
     "output_type": "execute_result"
    }
   ],
   "source": [
    "price_tags = driver.find_elements_by_xpath('//span[@class=\"a-price-whole\"]')\n",
    "len(price_tags)\n",
    "price_tags[0:10]"
   ]
  },
  {
   "cell_type": "code",
   "execution_count": 274,
   "id": "119f4a2f",
   "metadata": {},
   "outputs": [
    {
     "data": {
      "text/plain": [
       "['94,999',\n",
       " '90,999',\n",
       " '49,990',\n",
       " '94,999',\n",
       " '79,990',\n",
       " '84,990',\n",
       " '87,490',\n",
       " '84,990',\n",
       " '90,990',\n",
       " '89,490']"
      ]
     },
     "execution_count": 274,
     "metadata": {},
     "output_type": "execute_result"
    }
   ],
   "source": [
    "price_titles = []\n",
    "for i in price_tags:\n",
    "    price_titles.append(i.text)\n",
    "    \n",
    "len(price_titles)\n",
    "price_titles[0:10]"
   ]
  },
  {
   "cell_type": "raw",
   "id": "732622a6",
   "metadata": {},
   "source": [
    "Q9:Write a python program to scrape data for first 10 job results for Data Scientist Designation in Noida location. You have to scrape company name, No. of days ago when job was posted, Rating of the company.\n"
   ]
  },
  {
   "cell_type": "code",
   "execution_count": 283,
   "id": "a4bf657c",
   "metadata": {},
   "outputs": [],
   "source": [
    "driver=webdriver.Chrome(r'C:\\Users\\Jai Mata Di\\Downloads\\chromedriver_win32\\chromedriver.exe')"
   ]
  },
  {
   "cell_type": "code",
   "execution_count": 284,
   "id": "d54ca780",
   "metadata": {},
   "outputs": [],
   "source": [
    "driver=webdriver.Chrome('chromedriver.exe')"
   ]
  },
  {
   "cell_type": "code",
   "execution_count": 285,
   "id": "db33187c",
   "metadata": {},
   "outputs": [],
   "source": [
    "url='https://www.ambitionbox.com/'\n",
    "driver.get(url)"
   ]
  },
  {
   "cell_type": "code",
   "execution_count": 286,
   "id": "c5bcfd2f",
   "metadata": {},
   "outputs": [
    {
     "data": {
      "text/plain": [
       "<selenium.webdriver.remote.webelement.WebElement (session=\"2a7af6d33398cf415d90dbc9125fd7cd\", element=\"807162ce-7225-4851-8778-f17007d32c1a\")>"
      ]
     },
     "execution_count": 286,
     "metadata": {},
     "output_type": "execute_result"
    }
   ],
   "source": [
    "search_job=driver.find_element_by_xpath('/html/body/div/div/div/div[2]/div[1]/div/div/div/div/span/input')\n",
    "search_job"
   ]
  },
  {
   "cell_type": "code",
   "execution_count": 287,
   "id": "2b7b6925",
   "metadata": {},
   "outputs": [],
   "source": [
    "search_job.send_keys(\"Data Scientist\")"
   ]
  },
  {
   "cell_type": "code",
   "execution_count": 289,
   "id": "e11dbbe6",
   "metadata": {},
   "outputs": [
    {
     "data": {
      "text/plain": [
       "<selenium.webdriver.remote.webelement.WebElement (session=\"2a7af6d33398cf415d90dbc9125fd7cd\", element=\"98c86329-a525-43df-a30d-abddc59e183e\")>"
      ]
     },
     "execution_count": 289,
     "metadata": {},
     "output_type": "execute_result"
    }
   ],
   "source": [
    "search_btn=driver.find_element_by_xpath('/html/body/div/div/div/div[2]/div[1]/div/div/div/button/span')\n",
    "search_btn"
   ]
  },
  {
   "cell_type": "code",
   "execution_count": 290,
   "id": "ac1edb9f",
   "metadata": {},
   "outputs": [],
   "source": [
    "search_btn.click()"
   ]
  },
  {
   "cell_type": "code",
   "execution_count": 294,
   "id": "880edc89",
   "metadata": {},
   "outputs": [],
   "source": [
    "locn_check=driver.find_element_by_xpath('/html/body/div/div/div/div[2]/div[2]/div[1]/div/div/div/div[2]/div[2]/div/div[3]/div[1]/div[1]/div/label')"
   ]
  },
  {
   "cell_type": "code",
   "execution_count": 295,
   "id": "a7f84578",
   "metadata": {},
   "outputs": [],
   "source": [
    "locn_check.click()"
   ]
  },
  {
   "cell_type": "code",
   "execution_count": 300,
   "id": "5966be4d",
   "metadata": {},
   "outputs": [
    {
     "data": {
      "text/plain": [
       "[<selenium.webdriver.remote.webelement.WebElement (session=\"8368e1b6527b3de8aad33a4c7bace000\", element=\"2eff2139-11d1-4572-8931-d26f62814e8e\")>,\n",
       " <selenium.webdriver.remote.webelement.WebElement (session=\"8368e1b6527b3de8aad33a4c7bace000\", element=\"77c93853-045a-4006-9228-38b3c5a482c2\")>,\n",
       " <selenium.webdriver.remote.webelement.WebElement (session=\"8368e1b6527b3de8aad33a4c7bace000\", element=\"8eb3f5f4-7dcf-4946-b93b-7924565fd38e\")>,\n",
       " <selenium.webdriver.remote.webelement.WebElement (session=\"8368e1b6527b3de8aad33a4c7bace000\", element=\"c25b4ffc-de07-4fde-b197-d5bcccd74371\")>,\n",
       " <selenium.webdriver.remote.webelement.WebElement (session=\"8368e1b6527b3de8aad33a4c7bace000\", element=\"5b2803dd-b2db-4946-a4c7-4545e174ba3c\")>,\n",
       " <selenium.webdriver.remote.webelement.WebElement (session=\"8368e1b6527b3de8aad33a4c7bace000\", element=\"f30aaea6-e1db-43a7-81e2-5fd6d560f06e\")>,\n",
       " <selenium.webdriver.remote.webelement.WebElement (session=\"8368e1b6527b3de8aad33a4c7bace000\", element=\"bef18e22-3aaa-4211-b681-d6c4f544ab62\")>,\n",
       " <selenium.webdriver.remote.webelement.WebElement (session=\"8368e1b6527b3de8aad33a4c7bace000\", element=\"3b2e5a75-0a8d-428b-bb90-91698101dd7f\")>,\n",
       " <selenium.webdriver.remote.webelement.WebElement (session=\"8368e1b6527b3de8aad33a4c7bace000\", element=\"67726bc1-8edd-411a-840d-f34803c4ce05\")>,\n",
       " <selenium.webdriver.remote.webelement.WebElement (session=\"8368e1b6527b3de8aad33a4c7bace000\", element=\"e3fd5cbb-0ab7-4bef-b0c1-3812e9df80ea\")>]"
      ]
     },
     "execution_count": 300,
     "metadata": {},
     "output_type": "execute_result"
    }
   ],
   "source": [
    "company_tags = driver.find_elements_by_xpath('//p[@class=\"company body-medium\"]')\n",
    "len(company_tags)\n",
    "title_tags[0:10]"
   ]
  },
  {
   "cell_type": "code",
   "execution_count": 301,
   "id": "81e449ee",
   "metadata": {},
   "outputs": [
    {
     "data": {
      "text/plain": [
       "['HCL',\n",
       " 'Jubilant Foodworks Limited',\n",
       " 'Ameriprise Financial',\n",
       " 'Paytm',\n",
       " 'CHT Sapiense',\n",
       " 'CHT Sapiense',\n",
       " 'GI Group',\n",
       " 'GI Group',\n",
       " 'GI Group',\n",
       " 'Cargoflash']"
      ]
     },
     "execution_count": 301,
     "metadata": {},
     "output_type": "execute_result"
    }
   ],
   "source": [
    "company_names = []\n",
    "for i in company_tags:\n",
    "    company_names.append(i.text)\n",
    "    \n",
    "len(company_names)\n",
    "company_names[0:10]"
   ]
  },
  {
   "cell_type": "code",
   "execution_count": 302,
   "id": "e1c2d047",
   "metadata": {},
   "outputs": [
    {
     "data": {
      "text/plain": [
       "[<selenium.webdriver.remote.webelement.WebElement (session=\"2a7af6d33398cf415d90dbc9125fd7cd\", element=\"7fa3f343-e77c-47d5-b15d-114193bed885\")>,\n",
       " <selenium.webdriver.remote.webelement.WebElement (session=\"2a7af6d33398cf415d90dbc9125fd7cd\", element=\"2d00549b-3f82-4361-907f-5214d357efca\")>,\n",
       " <selenium.webdriver.remote.webelement.WebElement (session=\"2a7af6d33398cf415d90dbc9125fd7cd\", element=\"32361469-6937-4c09-b2df-d7bcc9aababf\")>,\n",
       " <selenium.webdriver.remote.webelement.WebElement (session=\"2a7af6d33398cf415d90dbc9125fd7cd\", element=\"2873b133-36e5-4f4d-afb8-13de0c9b24d7\")>,\n",
       " <selenium.webdriver.remote.webelement.WebElement (session=\"2a7af6d33398cf415d90dbc9125fd7cd\", element=\"76886e12-85ee-4e95-9c91-956071965166\")>,\n",
       " <selenium.webdriver.remote.webelement.WebElement (session=\"2a7af6d33398cf415d90dbc9125fd7cd\", element=\"e7559252-9d78-405b-b960-e982cc37e872\")>,\n",
       " <selenium.webdriver.remote.webelement.WebElement (session=\"2a7af6d33398cf415d90dbc9125fd7cd\", element=\"4a3462f6-f48f-46a8-b897-cbcf64feb95b\")>,\n",
       " <selenium.webdriver.remote.webelement.WebElement (session=\"2a7af6d33398cf415d90dbc9125fd7cd\", element=\"81493ae7-bdaf-457a-afeb-ed129138c457\")>,\n",
       " <selenium.webdriver.remote.webelement.WebElement (session=\"2a7af6d33398cf415d90dbc9125fd7cd\", element=\"dba7e0c2-64d3-48c5-8151-609a6cf95899\")>,\n",
       " <selenium.webdriver.remote.webelement.WebElement (session=\"2a7af6d33398cf415d90dbc9125fd7cd\", element=\"7d1e8a59-584e-4d2d-9a40-571f68ea907f\")>]"
      ]
     },
     "execution_count": 302,
     "metadata": {},
     "output_type": "execute_result"
    }
   ],
   "source": [
    "days_tags = driver.find_elements_by_xpath('//span[@class=\"body-small-l\"]')\n",
    "len(days_tags)\n",
    "days_tags[0:10]"
   ]
  },
  {
   "cell_type": "code",
   "execution_count": 303,
   "id": "c592aa2f",
   "metadata": {},
   "outputs": [
    {
     "data": {
      "text/plain": [
       "['2d ago',\n",
       " 'via hirist.com',\n",
       " '2d ago',\n",
       " 'via naukri.com',\n",
       " '4d ago',\n",
       " 'via naukri.com',\n",
       " '10d ago',\n",
       " 'via naukri.com',\n",
       " '11d ago',\n",
       " 'via iimjobs.com']"
      ]
     },
     "execution_count": 303,
     "metadata": {},
     "output_type": "execute_result"
    }
   ],
   "source": [
    "days_names = []\n",
    "for i in days_tags:\n",
    "    days_names.append(i.text)\n",
    "    \n",
    "len(days_names)\n",
    "days_names[0:10]"
   ]
  },
  {
   "cell_type": "code",
   "execution_count": 304,
   "id": "e243637f",
   "metadata": {},
   "outputs": [
    {
     "data": {
      "text/plain": [
       "[<selenium.webdriver.remote.webelement.WebElement (session=\"2a7af6d33398cf415d90dbc9125fd7cd\", element=\"3fcc0bf2-b984-4b55-9297-a971cd385a2e\")>,\n",
       " <selenium.webdriver.remote.webelement.WebElement (session=\"2a7af6d33398cf415d90dbc9125fd7cd\", element=\"a2ea988b-15f4-410e-a232-7273a9e65417\")>,\n",
       " <selenium.webdriver.remote.webelement.WebElement (session=\"2a7af6d33398cf415d90dbc9125fd7cd\", element=\"00dc9747-489d-4ae3-9817-f433f6bb9651\")>,\n",
       " <selenium.webdriver.remote.webelement.WebElement (session=\"2a7af6d33398cf415d90dbc9125fd7cd\", element=\"a5b42013-5541-4fc2-89c9-f62f91933fd8\")>,\n",
       " <selenium.webdriver.remote.webelement.WebElement (session=\"2a7af6d33398cf415d90dbc9125fd7cd\", element=\"8aec2af4-3dc9-4bef-98b6-7ef4ee06c7e5\")>,\n",
       " <selenium.webdriver.remote.webelement.WebElement (session=\"2a7af6d33398cf415d90dbc9125fd7cd\", element=\"ea63e23e-62d8-4f70-9581-15c38abdb17f\")>,\n",
       " <selenium.webdriver.remote.webelement.WebElement (session=\"2a7af6d33398cf415d90dbc9125fd7cd\", element=\"c4b3a7a2-bd0f-45cd-9292-daee5f82249a\")>,\n",
       " <selenium.webdriver.remote.webelement.WebElement (session=\"2a7af6d33398cf415d90dbc9125fd7cd\", element=\"e7ebb9fb-da16-4c4a-b82b-a0d65aad406c\")>,\n",
       " <selenium.webdriver.remote.webelement.WebElement (session=\"2a7af6d33398cf415d90dbc9125fd7cd\", element=\"360155e3-a6d6-428b-872d-1d579b41049b\")>,\n",
       " <selenium.webdriver.remote.webelement.WebElement (session=\"2a7af6d33398cf415d90dbc9125fd7cd\", element=\"a6d81f15-1480-4cc6-83a6-ec30e9e57f59\")>]"
      ]
     },
     "execution_count": 304,
     "metadata": {},
     "output_type": "execute_result"
    }
   ],
   "source": [
    "rating_tags = driver.find_elements_by_xpath('//span[@class=\"body-small\"]')\n",
    "len(rating_tags)\n",
    "rating_tags[0:10]"
   ]
  },
  {
   "cell_type": "code",
   "execution_count": 305,
   "id": "61bf1564",
   "metadata": {},
   "outputs": [
    {
     "data": {
      "text/plain": [
       "['3.8', '3.9', '4.0', '3.7', '3.8', '3.8', '4.1', '4.1', '4.1', '3.8']"
      ]
     },
     "execution_count": 305,
     "metadata": {},
     "output_type": "execute_result"
    }
   ],
   "source": [
    "rating_names = []\n",
    "for i in rating_tags:\n",
    "    rating_names.append(i.text)\n",
    "    \n",
    "len(rating_names)\n",
    "rating_names[0:10]"
   ]
  },
  {
   "cell_type": "code",
   "execution_count": 309,
   "id": "6c040ec1",
   "metadata": {},
   "outputs": [
    {
     "data": {
      "text/plain": [
       "(10, 20, 10)"
      ]
     },
     "execution_count": 309,
     "metadata": {},
     "output_type": "execute_result"
    }
   ],
   "source": [
    "len(company_names),len(days_names),len(rating_names)"
   ]
  },
  {
   "cell_type": "raw",
   "id": "4864e9d2",
   "metadata": {},
   "source": [
    "Q10:Write a python program to scrape the salary data for Data Scientist designation.\n",
    "You have to scrape Company name, Number of salaries, Average salary, Minsalary, Max Salary."
   ]
  },
  {
   "cell_type": "code",
   "execution_count": 310,
   "id": "738a4a66",
   "metadata": {},
   "outputs": [],
   "source": [
    "driver=webdriver.Chrome(r'C:\\Users\\Jai Mata Di\\Downloads\\chromedriver_win32\\chromedriver.exe')"
   ]
  },
  {
   "cell_type": "code",
   "execution_count": 311,
   "id": "48048439",
   "metadata": {},
   "outputs": [],
   "source": [
    "driver=webdriver.Chrome('chromedriver.exe')"
   ]
  },
  {
   "cell_type": "code",
   "execution_count": 312,
   "id": "2ff87031",
   "metadata": {},
   "outputs": [],
   "source": [
    "url='https://www.ambitionbox.com/'\n",
    "driver.get(url)"
   ]
  },
  {
   "cell_type": "code",
   "execution_count": 315,
   "id": "64b39653",
   "metadata": {},
   "outputs": [
    {
     "data": {
      "text/plain": [
       "<selenium.webdriver.remote.webelement.WebElement (session=\"eaa0daf249f6c63f21a32044aa0b4023\", element=\"cc705b95-87f8-486a-86ad-b78b95af2190\")>"
      ]
     },
     "execution_count": 315,
     "metadata": {},
     "output_type": "execute_result"
    }
   ],
   "source": [
    "search_job=driver.find_element_by_xpath('/html/body/div/div/div/div[2]/div[1]/div/div/div/div/span/input')\n",
    "search_job"
   ]
  },
  {
   "cell_type": "code",
   "execution_count": 316,
   "id": "eee09d6b",
   "metadata": {},
   "outputs": [],
   "source": [
    "search_job.send_keys(\"Data Scientist\")"
   ]
  },
  {
   "cell_type": "code",
   "execution_count": 317,
   "id": "17037cd3",
   "metadata": {},
   "outputs": [
    {
     "data": {
      "text/plain": [
       "<selenium.webdriver.remote.webelement.WebElement (session=\"eaa0daf249f6c63f21a32044aa0b4023\", element=\"0afb9a2d-b6af-4b1e-9270-472aebb8fbf7\")>"
      ]
     },
     "execution_count": 317,
     "metadata": {},
     "output_type": "execute_result"
    }
   ],
   "source": [
    "search_btn=driver.find_element_by_xpath('/html/body/div/div/div/div[2]/div[1]/div/div/div/button/span')\n",
    "search_btn"
   ]
  },
  {
   "cell_type": "code",
   "execution_count": 318,
   "id": "97dc7585",
   "metadata": {},
   "outputs": [],
   "source": [
    "search_btn.click()"
   ]
  },
  {
   "cell_type": "code",
   "execution_count": 320,
   "id": "09a708cc",
   "metadata": {},
   "outputs": [
    {
     "data": {
      "text/plain": [
       "[<selenium.webdriver.remote.webelement.WebElement (session=\"8368e1b6527b3de8aad33a4c7bace000\", element=\"2eff2139-11d1-4572-8931-d26f62814e8e\")>,\n",
       " <selenium.webdriver.remote.webelement.WebElement (session=\"8368e1b6527b3de8aad33a4c7bace000\", element=\"77c93853-045a-4006-9228-38b3c5a482c2\")>,\n",
       " <selenium.webdriver.remote.webelement.WebElement (session=\"8368e1b6527b3de8aad33a4c7bace000\", element=\"8eb3f5f4-7dcf-4946-b93b-7924565fd38e\")>,\n",
       " <selenium.webdriver.remote.webelement.WebElement (session=\"8368e1b6527b3de8aad33a4c7bace000\", element=\"c25b4ffc-de07-4fde-b197-d5bcccd74371\")>,\n",
       " <selenium.webdriver.remote.webelement.WebElement (session=\"8368e1b6527b3de8aad33a4c7bace000\", element=\"5b2803dd-b2db-4946-a4c7-4545e174ba3c\")>,\n",
       " <selenium.webdriver.remote.webelement.WebElement (session=\"8368e1b6527b3de8aad33a4c7bace000\", element=\"f30aaea6-e1db-43a7-81e2-5fd6d560f06e\")>,\n",
       " <selenium.webdriver.remote.webelement.WebElement (session=\"8368e1b6527b3de8aad33a4c7bace000\", element=\"bef18e22-3aaa-4211-b681-d6c4f544ab62\")>,\n",
       " <selenium.webdriver.remote.webelement.WebElement (session=\"8368e1b6527b3de8aad33a4c7bace000\", element=\"3b2e5a75-0a8d-428b-bb90-91698101dd7f\")>,\n",
       " <selenium.webdriver.remote.webelement.WebElement (session=\"8368e1b6527b3de8aad33a4c7bace000\", element=\"67726bc1-8edd-411a-840d-f34803c4ce05\")>,\n",
       " <selenium.webdriver.remote.webelement.WebElement (session=\"8368e1b6527b3de8aad33a4c7bace000\", element=\"e3fd5cbb-0ab7-4bef-b0c1-3812e9df80ea\")>]"
      ]
     },
     "execution_count": 320,
     "metadata": {},
     "output_type": "execute_result"
    }
   ],
   "source": [
    "company_tags = driver.find_elements_by_xpath('//a[@class=\"company sbold-section-header\"]')\n",
    "len(company_tags)\n",
    "title_tags[0:10]"
   ]
  },
  {
   "cell_type": "code",
   "execution_count": 321,
   "id": "34b92207",
   "metadata": {},
   "outputs": [
    {
     "data": {
      "text/plain": [
       "['Abbott Healthcare Pvt. Ltd']"
      ]
     },
     "execution_count": 321,
     "metadata": {},
     "output_type": "execute_result"
    }
   ],
   "source": [
    "company_names = []\n",
    "for i in company_tags:\n",
    "    company_names.append(i.text)\n",
    "    \n",
    "len(company_names)\n",
    "company_names[0:10]"
   ]
  },
  {
   "cell_type": "code",
   "execution_count": 323,
   "id": "cd362524",
   "metadata": {},
   "outputs": [
    {
     "data": {
      "text/plain": [
       "[<selenium.webdriver.remote.webelement.WebElement (session=\"eaa0daf249f6c63f21a32044aa0b4023\", element=\"9c530425-e328-4548-8ea0-caf889d8f2cf\")>,\n",
       " <selenium.webdriver.remote.webelement.WebElement (session=\"eaa0daf249f6c63f21a32044aa0b4023\", element=\"59489b32-bb84-4f5b-b0be-59bcc6b7a343\")>,\n",
       " <selenium.webdriver.remote.webelement.WebElement (session=\"eaa0daf249f6c63f21a32044aa0b4023\", element=\"e073553b-6812-4144-80a9-1d14adceec87\")>,\n",
       " <selenium.webdriver.remote.webelement.WebElement (session=\"eaa0daf249f6c63f21a32044aa0b4023\", element=\"54564f62-6fe8-4b76-aeb1-90757713ebd9\")>,\n",
       " <selenium.webdriver.remote.webelement.WebElement (session=\"eaa0daf249f6c63f21a32044aa0b4023\", element=\"62f9700c-5ca6-47ab-a0f5-c01731180dec\")>,\n",
       " <selenium.webdriver.remote.webelement.WebElement (session=\"eaa0daf249f6c63f21a32044aa0b4023\", element=\"2de11360-3477-4cc4-9667-21a1246a7769\")>,\n",
       " <selenium.webdriver.remote.webelement.WebElement (session=\"eaa0daf249f6c63f21a32044aa0b4023\", element=\"9937cc8f-f62b-4a12-9e74-b7d1d2b6b409\")>,\n",
       " <selenium.webdriver.remote.webelement.WebElement (session=\"eaa0daf249f6c63f21a32044aa0b4023\", element=\"2e1be068-7c85-4cac-ba1d-c4e8e4424a95\")>,\n",
       " <selenium.webdriver.remote.webelement.WebElement (session=\"eaa0daf249f6c63f21a32044aa0b4023\", element=\"0268c7c0-d978-4bd7-930c-ae8c63f48084\")>,\n",
       " <selenium.webdriver.remote.webelement.WebElement (session=\"eaa0daf249f6c63f21a32044aa0b4023\", element=\"34ed121b-3bcd-4d2a-b8c5-590697aa82b6\")>]"
      ]
     },
     "execution_count": 323,
     "metadata": {},
     "output_type": "execute_result"
    }
   ],
   "source": [
    "salary_tags = driver.find_elements_by_xpath('//p[@class=\"body-small-l\"]')\n",
    "len(salary_tags)\n",
    "salary_tags[0:10]"
   ]
  },
  {
   "cell_type": "code",
   "execution_count": 325,
   "id": "7977ab88",
   "metadata": {},
   "outputs": [
    {
     "data": {
      "text/plain": [
       "['2-6 years',\n",
       " 'Not Disclosed',\n",
       " 'Mumbai',\n",
       " '1 vacancy',\n",
       " '2-6 Yrs',\n",
       " 'Not Disclosed',\n",
       " 'Mumbai',\n",
       " 'Analytical, Medical devices, Machine learning +7 more',\n",
       " '8-12 Yrs',\n",
       " '₹ 12-20 LPA']"
      ]
     },
     "execution_count": 325,
     "metadata": {},
     "output_type": "execute_result"
    }
   ],
   "source": [
    "salary = []\n",
    "for i in salary_tags:\n",
    "    salary.append(i.text)\n",
    "    \n",
    "len(salary)\n",
    "salary[0:10]"
   ]
  },
  {
   "cell_type": "code",
   "execution_count": 327,
   "id": "cd47979a",
   "metadata": {},
   "outputs": [
    {
     "data": {
      "text/plain": [
       "[<selenium.webdriver.remote.webelement.WebElement (session=\"eaa0daf249f6c63f21a32044aa0b4023\", element=\"7e6b1e41-34b4-423e-bcb3-73b387d7ec58\")>]"
      ]
     },
     "execution_count": 327,
     "metadata": {},
     "output_type": "execute_result"
    }
   ],
   "source": [
    "salary_tags = driver.find_elements_by_xpath('//div[@class=\"avg_value sbold-title-l\"]')\n",
    "len(salary_tags)\n",
    "salary_tags[0:10]"
   ]
  },
  {
   "cell_type": "code",
   "execution_count": 328,
   "id": "da9826e2",
   "metadata": {},
   "outputs": [
    {
     "data": {
      "text/plain": [
       "['₹ 11.2 L\\n(avg)']"
      ]
     },
     "execution_count": 328,
     "metadata": {},
     "output_type": "execute_result"
    }
   ],
   "source": [
    "avg_salary = []\n",
    "for i in salary_tags:\n",
    "    avg_salary.append(i.text)\n",
    "    \n",
    "len(avg_salary)\n",
    "avg_salary[0:10]"
   ]
  },
  {
   "cell_type": "code",
   "execution_count": 329,
   "id": "62ac8027",
   "metadata": {},
   "outputs": [
    {
     "data": {
      "text/plain": [
       "[<selenium.webdriver.remote.webelement.WebElement (session=\"eaa0daf249f6c63f21a32044aa0b4023\", element=\"68d53dda-0b64-4094-8ee5-0a5ec921edc6\")>,\n",
       " <selenium.webdriver.remote.webelement.WebElement (session=\"eaa0daf249f6c63f21a32044aa0b4023\", element=\"0f034ab3-2337-4483-974b-ea3d529cdcf3\")>,\n",
       " <selenium.webdriver.remote.webelement.WebElement (session=\"eaa0daf249f6c63f21a32044aa0b4023\", element=\"c2eb5e6c-24ca-49d8-932a-88509787f0de\")>]"
      ]
     },
     "execution_count": 329,
     "metadata": {},
     "output_type": "execute_result"
    }
   ],
   "source": [
    "salary_tags = driver.find_elements_by_xpath('//span[@class=\"body-medium\"]')\n",
    "len(salary_tags)\n",
    "salary_tags[0:10]"
   ]
  },
  {
   "cell_type": "code",
   "execution_count": 330,
   "id": "d45a166e",
   "metadata": {},
   "outputs": [
    {
     "data": {
      "text/plain": [
       "['4.2', '₹ 8L', '₹ 15.7L']"
      ]
     },
     "execution_count": 330,
     "metadata": {},
     "output_type": "execute_result"
    }
   ],
   "source": [
    "min_salary = []\n",
    "for i in salary_tags:\n",
    "    min_salary.append(i.text)\n",
    "    \n",
    "len(min_salary)\n",
    "min_salary[0:10]"
   ]
  },
  {
   "cell_type": "code",
   "execution_count": 333,
   "id": "f009fbb9",
   "metadata": {},
   "outputs": [
    {
     "data": {
      "text/plain": [
       "[<selenium.webdriver.remote.webelement.WebElement (session=\"eaa0daf249f6c63f21a32044aa0b4023\", element=\"68d53dda-0b64-4094-8ee5-0a5ec921edc6\")>,\n",
       " <selenium.webdriver.remote.webelement.WebElement (session=\"eaa0daf249f6c63f21a32044aa0b4023\", element=\"0f034ab3-2337-4483-974b-ea3d529cdcf3\")>,\n",
       " <selenium.webdriver.remote.webelement.WebElement (session=\"eaa0daf249f6c63f21a32044aa0b4023\", element=\"c2eb5e6c-24ca-49d8-932a-88509787f0de\")>]"
      ]
     },
     "execution_count": 333,
     "metadata": {},
     "output_type": "execute_result"
    }
   ],
   "source": [
    "salary_tags = driver.find_elements_by_xpath('//span[@class=\"body-medium\"]')\n",
    "len(salary_tags)\n",
    "salary_tags[0:10]"
   ]
  },
  {
   "cell_type": "code",
   "execution_count": 334,
   "id": "e8531ea1",
   "metadata": {},
   "outputs": [
    {
     "data": {
      "text/plain": [
       "['4.2', '₹ 8L', '₹ 15.7L']"
      ]
     },
     "execution_count": 334,
     "metadata": {},
     "output_type": "execute_result"
    }
   ],
   "source": [
    "max_salary = []\n",
    "for i in salary_tags:\n",
    "    max_salary.append(i.text)\n",
    "    \n",
    "len(max_salary)\n",
    "max_salary[0:10]"
   ]
  },
  {
   "cell_type": "code",
   "execution_count": 337,
   "id": "71bbabab",
   "metadata": {},
   "outputs": [
    {
     "data": {
      "text/plain": [
       "[<selenium.webdriver.remote.webelement.WebElement (session=\"eaa0daf249f6c63f21a32044aa0b4023\", element=\"9c530425-e328-4548-8ea0-caf889d8f2cf\")>,\n",
       " <selenium.webdriver.remote.webelement.WebElement (session=\"eaa0daf249f6c63f21a32044aa0b4023\", element=\"59489b32-bb84-4f5b-b0be-59bcc6b7a343\")>,\n",
       " <selenium.webdriver.remote.webelement.WebElement (session=\"eaa0daf249f6c63f21a32044aa0b4023\", element=\"e073553b-6812-4144-80a9-1d14adceec87\")>,\n",
       " <selenium.webdriver.remote.webelement.WebElement (session=\"eaa0daf249f6c63f21a32044aa0b4023\", element=\"54564f62-6fe8-4b76-aeb1-90757713ebd9\")>,\n",
       " <selenium.webdriver.remote.webelement.WebElement (session=\"eaa0daf249f6c63f21a32044aa0b4023\", element=\"62f9700c-5ca6-47ab-a0f5-c01731180dec\")>,\n",
       " <selenium.webdriver.remote.webelement.WebElement (session=\"eaa0daf249f6c63f21a32044aa0b4023\", element=\"2de11360-3477-4cc4-9667-21a1246a7769\")>,\n",
       " <selenium.webdriver.remote.webelement.WebElement (session=\"eaa0daf249f6c63f21a32044aa0b4023\", element=\"9937cc8f-f62b-4a12-9e74-b7d1d2b6b409\")>,\n",
       " <selenium.webdriver.remote.webelement.WebElement (session=\"eaa0daf249f6c63f21a32044aa0b4023\", element=\"2e1be068-7c85-4cac-ba1d-c4e8e4424a95\")>,\n",
       " <selenium.webdriver.remote.webelement.WebElement (session=\"eaa0daf249f6c63f21a32044aa0b4023\", element=\"0268c7c0-d978-4bd7-930c-ae8c63f48084\")>,\n",
       " <selenium.webdriver.remote.webelement.WebElement (session=\"eaa0daf249f6c63f21a32044aa0b4023\", element=\"34ed121b-3bcd-4d2a-b8c5-590697aa82b6\")>]"
      ]
     },
     "execution_count": 337,
     "metadata": {},
     "output_type": "execute_result"
    }
   ],
   "source": [
    "exp_tags = driver.find_elements_by_xpath('//p[@class=\"body-small-l\"]')\n",
    "len(exp_tags)\n",
    "exp_tags[0:10]"
   ]
  },
  {
   "cell_type": "code",
   "execution_count": 338,
   "id": "6bd5644f",
   "metadata": {},
   "outputs": [
    {
     "data": {
      "text/plain": [
       "['2-6 years',\n",
       " 'Not Disclosed',\n",
       " 'Mumbai',\n",
       " '1 vacancy',\n",
       " '2-6 Yrs',\n",
       " 'Not Disclosed',\n",
       " 'Mumbai',\n",
       " 'Analytical, Medical devices, Machine learning +7 more',\n",
       " '8-12 Yrs',\n",
       " '₹ 12-20 LPA']"
      ]
     },
     "execution_count": 338,
     "metadata": {},
     "output_type": "execute_result"
    }
   ],
   "source": [
    "exp_salary = []\n",
    "for i in exp_tags:\n",
    "    exp_salary.append(i.text)\n",
    "    \n",
    "len(exp_salary)\n",
    "exp_salary[0:10]"
   ]
  },
  {
   "cell_type": "code",
   "execution_count": 339,
   "id": "4ed696cd",
   "metadata": {},
   "outputs": [
    {
     "data": {
      "text/plain": [
       "(1, 3, 3, 43)"
      ]
     },
     "execution_count": 339,
     "metadata": {},
     "output_type": "execute_result"
    }
   ],
   "source": [
    "len(avg_salary),len(min_salary),len(max_salary),len(exp_salary)"
   ]
  },
  {
   "cell_type": "code",
   "execution_count": null,
   "id": "26ffa145",
   "metadata": {},
   "outputs": [],
   "source": []
  }
 ],
 "metadata": {
  "kernelspec": {
   "display_name": "Python 3",
   "language": "python",
   "name": "python3"
  },
  "language_info": {
   "codemirror_mode": {
    "name": "ipython",
    "version": 3
   },
   "file_extension": ".py",
   "mimetype": "text/x-python",
   "name": "python",
   "nbconvert_exporter": "python",
   "pygments_lexer": "ipython3",
   "version": "3.8.8"
  }
 },
 "nbformat": 4,
 "nbformat_minor": 5
}
